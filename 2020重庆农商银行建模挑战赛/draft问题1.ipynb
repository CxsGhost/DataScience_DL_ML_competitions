{
 "cells": [
  {
   "cell_type": "code",
   "execution_count": 3,
   "outputs": [
    {
     "name": "stdout",
     "output_type": "stream",
     "text": [
      "         B701EE83ACE23A268771FA58985F7C7A  20181201  000304  ZR  18785.55  \\\n",
      "0        E5F51CBA0EE310D733CAA94F0033E4E6  20181201    1457  ZR  17843.73   \n",
      "1        0AD7B27FA104241EA7BAD995A737741C  20181201    1742  ZR   3296.01   \n",
      "2        89CE5C9AADA7522FC160425753C4F86A  20181201    2254  ZR     77.24   \n",
      "3        305DB5487DB021FEA79B1EB956471C53  20181201    2200  ZR  11585.18   \n",
      "4        745F74865D47153F36D6A7CF62075781  20181201    2755  ZR  13219.34   \n",
      "...                                   ...       ...     ...  ..       ...   \n",
      "1230917  C11F666DE8B73CF1FB77E299F310521F  20181130  110818  CK   4865.90   \n",
      "1230918  5D5765F62648FC9FDABE4E98C7981BFA  20181130  163029  ZR  30993.89   \n",
      "1230919  B60A277D1A8F297EE3C7273A4F63DC8A  20181130  162658  ZR   2505.20   \n",
      "1230920  7FBD83748F717BF7E1AA8D4D7142E5AF  20181130  162722  ZR   2507.89   \n",
      "1230921  28849537BEBF676317021C722F76E5DA  20181130  110843  ZR    385.61   \n",
      "\n",
      "         500949EF1CD5B66FAA6981997997373D  \n",
      "0        5E6B5AEC0AFF43BA6D66B300FD85BE29  \n",
      "1        5A95301B973333E04E02EBB87D3465FF  \n",
      "2        C7CCA0BDD4272DEA9F77BE5C3E6B4151  \n",
      "3        9A187FC3D9EE9D36D27786FC87104310  \n",
      "4        6859691A94DB735B71400F47033EA3BC  \n",
      "...                                   ...  \n",
      "1230917  BBB32FEC63161D65728EEE8FEF866DA4  \n",
      "1230918  5FAE982F9300999F041EF88CE42059C0  \n",
      "1230919  61B5BD8CF80F4994F2111728D8FE9BA9  \n",
      "1230920  678D0E4D6CD5D92ACFA1673EB3BFFED1  \n",
      "1230921  CB410BD6098378AD57AB4A6AC354DF44  \n",
      "\n",
      "[1230922 rows x 6 columns]\n"
     ]
    }
   ],
   "source": [
    "import numpy as np\n",
    "import pandas as pd\n",
    "\n",
    "data_3 = pd.read_csv('数据包/03_个人客户流水.csv', header=1, dtype={'交易时间': str})\n",
    "print(data_3)"
   ],
   "metadata": {
    "collapsed": false,
    "pycharm": {
     "name": "#%%\n"
    }
   }
  },
  {
   "cell_type": "code",
   "execution_count": null,
   "outputs": [],
   "source": [
    "\n"
   ],
   "metadata": {
    "collapsed": false,
    "pycharm": {
     "name": "#%%\n"
    }
   }
  }
 ],
 "metadata": {
  "kernelspec": {
   "display_name": "Python 3",
   "language": "python",
   "name": "python3"
  },
  "language_info": {
   "codemirror_mode": {
    "name": "ipython",
    "version": 2
   },
   "file_extension": ".py",
   "mimetype": "text/x-python",
   "name": "python",
   "nbconvert_exporter": "python",
   "pygments_lexer": "ipython2",
   "version": "2.7.6"
  }
 },
 "nbformat": 4,
 "nbformat_minor": 0
}