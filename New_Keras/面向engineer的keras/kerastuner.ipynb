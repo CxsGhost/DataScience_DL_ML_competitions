{
 "cells": [
  {
   "cell_type": "code",
   "execution_count": null,
   "metadata": {
    "collapsed": true
   },
   "outputs": [],
   "source": [
    "from tensorflow import keras\n",
    "import kerastuner\n",
    "\n",
    "# 使用keras tuner来寻找超参数\n",
    "\n",
    "# 该函数返回已编译的模型\n",
    "def build_model(hp):\n",
    "    inputs = keras.Input(shape=(20,),\n",
    "                         name='in',\n",
    "                         dtype='float32')\n",
    "    x = keras.layers.Dense(units=hp.Int('units', min_value=32, max_value=128, step=16),\n",
    "                           activation='relu', name='dense_1')(inputs)\n",
    "    outputs = keras.layers.Dense(10, activation='softmax')(x)\n",
    "    model = keras.models.Model(inputs=inputs, outputs=outputs)\n",
    "    model.compile(optimizer=keras.optimizers.Adam(learning_rate=hp.Choice('learning_rate',\n",
    "                                                                          values=[0.1, 0.02])),\n",
    "                  loss=keras.losses.sparse_categorical_crossentropy,\n",
    "                  metrics=[keras.metrics.CategoricalAccuracy(name='ACC')])\n",
    "    return model\n",
    "\n",
    "\n",
    "# 实例化一个指定优化目标和其他搜索参数的tuner对象\n",
    "tuner = kerastuner.tuners.Hyperband(build_model,\n",
    "                                    objective='val_loss',\n",
    "                                    max_epochs=100,\n",
    "                                    max_trials=200,\n",
    "                                    executions_per_trial=2,\n",
    "                                    directory='my_dir')\n",
    "\n",
    "# 从search开始搜，使用方法类似fit\n",
    "import numpy as np\n",
    "dataset = np.array([[]])\n",
    "val_dataset = dataset\n",
    "tuner.search(dataset, validation_data=val_dataset)\n",
    "models = tuner.get_best_models(num_models=2)\n",
    "print(tuner.results_summary())"
   ]
  }
 ],
 "metadata": {
  "kernelspec": {
   "display_name": "Python 3",
   "language": "python",
   "name": "python3"
  },
  "language_info": {
   "codemirror_mode": {
    "name": "ipython",
    "version": 2
   },
   "file_extension": ".py",
   "mimetype": "text/x-python",
   "name": "python",
   "nbconvert_exporter": "python",
   "pygments_lexer": "ipython2",
   "version": "2.7.6"
  }
 },
 "nbformat": 4,
 "nbformat_minor": 0
}