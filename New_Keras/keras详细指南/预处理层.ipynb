{
 "cells": [
  {
   "cell_type": "code",
   "execution_count": 1,
   "metadata": {
    "collapsed": true
   },
   "outputs": [],
   "source": [
    "# 使用预处理层，可更方便的创建端到端的模型\n",
    "from tensorflow import keras\n",
    "import tensorflow as tf\n",
    "import numpy as np"
   ]
  },
  {
   "cell_type": "code",
   "execution_count": null,
   "outputs": [],
   "source": [
    "# 可用的预处理层\n",
    "\n",
    "# 核心的预处理层\n",
    "keras.layers.experimental.preprocessing.TextVectorization\n",
    "keras.layers.experimental.preprocessing.Normalization"
   ],
   "metadata": {
    "collapsed": false,
    "pycharm": {
     "name": "#%%\n"
    }
   }
  },
  {
   "cell_type": "code",
   "execution_count": null,
   "outputs": [],
   "source": [
    "# 结构化数据预处理层\n",
    "\n",
    "# 将整数特征转化为one-hot，multi—hot，tf-idf来表示\n",
    "keras.layers.experimental.preprocessing.CategoryEncoding\n",
    "\n",
    "# 执行分类特征hash，也称为“hash trick”\n",
    "keras.layers.experimental.preprocessing.Hashing\n",
    "\n",
    "# 将连续的数字特征转化为整数分类特征\n",
    "keras.layers.experimental.preprocessing.Discretization\n",
    "\n",
    "# 将将字符值值转化为整数索引\n",
    "keras.layers.experimental.preprocessing.StringLookup\n",
    "\n",
    "# 将整数分类值转化为整数索引\n",
    "keras.layers.experimental.preprocessing.IntegerLookup\n",
    "\n",
    "# 特征交叉，将分类特征合并为为共想现特征，例如有特征值a，b，则可以提供组合特征“ab同时存在”\n",
    "keras.layers.experimental.preprocessing.CategoryCrossing\n"
   ],
   "metadata": {
    "collapsed": false,
    "pycharm": {
     "name": "#%%\n"
    }
   }
  },
  {
   "cell_type": "code",
   "execution_count": null,
   "outputs": [],
   "source": [
    "# 图像预处理层\n",
    "\n",
    "# 将一批图像调整为目标尺寸\n",
    "keras.layers.experimental.preprocessing.Resizing\n",
    "\n",
    "# 重新缩放和偏移一批图像的均值，例如[0, 255]->[0, 1]\n",
    "keras.layers.experimental.preprocessing.Rescaling\n",
    "\n",
    "# 将一批图像进行中心剪裁\n",
    "keras.layers.experimental.preprocessing.CenterCrop"
   ],
   "metadata": {
    "collapsed": false,
    "pycharm": {
     "name": "#%%\n"
    }
   }
  },
  {
   "cell_type": "code",
   "execution_count": null,
   "outputs": [],
   "source": [
    "# 将图像数据进行数据增强\n",
    "keras.layers.experimental.preprocessing.RandomCrop\n",
    "keras.layers.experimental.preprocessing.RandomFlip\n",
    "keras.layers.experimental.preprocessing.RandomTranslation\n",
    "keras.layers.experimental.preprocessing.RandomRotation\n",
    "keras.layers.experimental.preprocessing.RandomZoom\n",
    "keras.layers.experimental.preprocessing.RandomHeight\n",
    "keras.layers.experimental.preprocessing.RandomWidth"
   ],
   "metadata": {
    "collapsed": false,
    "pycharm": {
     "name": "#%%\n"
    }
   }
  },
  {
   "cell_type": "code",
   "execution_count": null,
   "outputs": [],
   "source": [
    "# adapt()方法\n",
    "# 某些预处理层具有内部状态，必须根据训练数据的样本进行计算\n",
    "from tensorflow.keras.layers.experimental import preprocessing\n",
    "preprocessing.TextVectorization\n",
    "preprocessing.Normalization  # 保存特征的均值和方差\n",
    "preprocessing.StringLookup, preprocessing.IntegerLookup  # 保存输入和输出索引之间的映射\n",
    "preprocessing.CategoryEncoding  # 保存输入值的索引\n",
    "preprocessing.Discretization  # 保存值区间边界\n",
    "\n",
    "# 关键在于 这些层是不可训练的，在训练前必须adapt"
   ],
   "metadata": {
    "collapsed": false,
    "pycharm": {
     "name": "#%%\n"
    }
   }
  },
  {
   "cell_type": "code",
   "execution_count": 5,
   "outputs": [
    {
     "name": "stdout",
     "output_type": "stream",
     "text": [
      "tf.Tensor(1.0, shape=(), dtype=float32)\n",
      "tf.Tensor(0.0, shape=(), dtype=float32)\n"
     ]
    }
   ],
   "source": [
    "# 例如Normalization\n",
    "data = np.random.randint(low=-10, high=10, size=(2, 3))\n",
    "prep = keras.layers.experimental.preprocessing.Normalization()\n",
    "prep.adapt(data)\n",
    "nor_data = prep(data)\n",
    "print(keras.backend.std(nor_data))\n",
    "print(keras.backend.mean(nor_data))\n"
   ],
   "metadata": {
    "collapsed": false,
    "pycharm": {
     "name": "#%%\n"
    }
   }
  },
  {
   "cell_type": "code",
   "execution_count": 9,
   "outputs": [
    {
     "name": "stdout",
     "output_type": "stream",
     "text": [
      "['', '[UNK]', 'ῥ᾽', 'ἔλθωσι', 'οἵ ῥ᾽', 'οἵ', 'μὲν', 'διὰ', 'αἱ', 'ῥ᾽ ἔτυμα κραίνουσι', 'ῥ᾽ ἔτυμα', 'ῥ᾽ ἐλεφαίρονται ἔπε᾽', 'ῥ᾽ ἐλεφαίρονται', 'ὅτε κέν τις', 'ὅτε κέν', 'ὅτε', 'ὄνειροι ἀμήχανοι ἀκριτόμυθοι', 'ὄνειροι ἀμήχανοι', 'ὄνειροι', 'ὀνείρων', 'ἴδηται', 'ἦ τοι μὲν', 'ἦ τοι', 'ἦ', 'ἔτυμα κραίνουσι βροτῶν', 'ἔτυμα κραίνουσι', 'ἔτυμα', 'ἔπε᾽ ἀκράαντα φέροντες', 'ἔπε᾽ ἀκράαντα', 'ἔπε᾽', 'ἔλθωσι θύραζε', 'ἔλθωσι διὰ πριστοῦ', 'ἔλθωσι διὰ', 'ἐλεφαίρονται ἔπε᾽ ἀκράαντα', 'ἐλεφαίρονται ἔπε᾽', 'ἐλεφαίρονται', 'ἐλέφαντος', 'ἐλέφαντι', 'ἀνθρώποισι', 'ἀμενηνῶν εἰσὶν ὀνείρων', 'ἀμενηνῶν εἰσὶν', 'ἀμενηνῶν', 'ἀμήχανοι ἀκριτόμυθοι', 'ἀμήχανοι', 'ἀκριτόμυθοι', 'ἀκράαντα φέροντες', 'ἀκράαντα', 'φέροντες', 'τῶν οἳ μέν', 'τῶν οἳ', 'τῶν', 'τοι μὲν ὄνειροι', 'τοι μὲν', 'τοι', 'τις ἴδηται', 'τις', 'τι πάντα τελείεται', 'τι πάντα', 'τι', 'τετεύχαται αἱ δ᾽', 'τετεύχαται αἱ', 'τετεύχαται', 'τελείεται ἀνθρώποισι', 'τελείεται', 'τε πύλαι ἀμενηνῶν', 'τε πύλαι', 'τε', 'πύλαι ἀμενηνῶν εἰσὶν', 'πύλαι ἀμενηνῶν', 'πύλαι', 'πριστοῦ ἐλέφαντος', 'πριστοῦ', 'πάντα τελείεται ἀνθρώποισι', 'πάντα τελείεται', 'πάντα', 'οὐδέ τι πάντα', 'οὐδέ τι', 'οὐδέ', 'οἵ ῥ᾽ ἔτυμα', 'οἵ ῥ᾽ ἐλεφαίρονται', 'οἳ μέν κ᾽', 'οἳ μέν', 'οἳ', 'οἱ δὲ διὰ', 'οἱ δὲ', 'οἱ', 'ξεῖν᾽ ἦ τοι', 'ξεῖν᾽ ἦ', 'ξεῖν᾽', 'ξεστῶν κεράων ἔλθωσι', 'ξεστῶν κεράων', 'ξεστῶν', 'μὲν ὄνειροι ἀμήχανοι', 'μὲν ὄνειροι', 'μὲν γὰρ κεράεσσι', 'μὲν γὰρ', 'μέν κ᾽ ἔλθωσι', 'μέν κ᾽', 'μέν', 'κ᾽ ἔλθωσι διὰ']\n",
      "100\n",
      "tf.Tensor(\n",
      "[[88 23 53  6 18 43 44 87 22 52 93 17 42 86 21 51 92 16  0  0  0  0  0  0]\n",
      " [ 1 77 58 74 63 38  1 76 57 73 62  1 75 56 72  0  0  0  0  0  0  0  0  0]\n",
      " [ 1  1 66 69 41  1 19  1  1 65 68 40  1  1  1 64 67 39  0  0  0  0  0  0]\n",
      " [ 8  6  1  1 61  8  1 37  1 95  1  1 60  1  1  1 94  1  1 59  1  0  0  0]\n",
      " [50 82 98  1  3  7 71 36 49 81 97  1 32  1 70 48 80 96 99 31  1  0  0  0]\n",
      " [ 5  2 35 29 46 47  4 12 34 28 45 79 11 33 27  0  0  0  0  0  0  0  0  0]\n",
      " [85  1  7 91  1  3  1 84  1  1 90  1 30 83  1  1 89  1  0  0  0  0  0  0]\n",
      " [ 5  2 26  1  1 15  1 55 20  4 10 25  1  1 14  1 54 78  9 24  1  1 13  1]], shape=(8, 24), dtype=int64)\n"
     ]
    }
   ],
   "source": [
    "# 再例如，对StringLookUp和TextVectorization，可以传入一个字符串列表\n",
    "data = [\n",
    "    \"ξεῖν᾽, ἦ τοι μὲν ὄνειροι ἀμήχανοι ἀκριτόμυθοι\",\n",
    "    \"γίγνοντ᾽, οὐδέ τι πάντα τελείεται ἀνθρώποισι.\",\n",
    "    \"δοιαὶ γάρ τε πύλαι ἀμενηνῶν εἰσὶν ὀνείρων:\",\n",
    "    \"αἱ μὲν γὰρ κεράεσσι τετεύχαται, αἱ δ᾽ ἐλέφαντι:\",\n",
    "    \"τῶν οἳ μέν κ᾽ ἔλθωσι διὰ πριστοῦ ἐλέφαντος,\",\n",
    "    \"οἵ ῥ᾽ ἐλεφαίρονται, ἔπε᾽ ἀκράαντα φέροντες:\",\n",
    "    \"οἱ δὲ διὰ ξεστῶν κεράων ἔλθωσι θύραζε,\",\n",
    "    \"οἵ ῥ᾽ ἔτυμα κραίνουσι, βροτῶν ὅτε κέν τις ἴδηται.\",\n",
    "]\n",
    "layer = keras.layers.experimental.preprocessing.TextVectorization(max_tokens=100, ngrams=(1, 2, 3))\n",
    "layer.adapt(data)\n",
    "print(layer.get_vocabulary())\n",
    "print(len(layer.get_vocabulary()))\n",
    "vec_data = layer(data)\n",
    "print(vec_data)\n"
   ],
   "metadata": {
    "collapsed": false,
    "pycharm": {
     "name": "#%%\n"
    }
   }
  },
  {
   "cell_type": "code",
   "execution_count": 12,
   "outputs": [
    {
     "name": "stdout",
     "output_type": "stream",
     "text": [
      "tf.Tensor(\n",
      "[[2 4 5 1]\n",
      " [5 1 3 1]], shape=(2, 4), dtype=int64)\n",
      "['', '[UNK]', 'a', 'b', 'c', 'd']\n"
     ]
    }
   ],
   "source": [
    "# 如果手上已有图层状态设置，则可以不通过adapt而直接设置，最简单的比如vocabulary\n",
    "vocab = [\"a\", \"b\", \"c\", \"d\"]\n",
    "data = tf.constant([[\"a\", \"c\", \"d\", \"p\"], [\"d\", \"z\", \"b\", \"o\"]])\n",
    "layer = keras.layers.experimental.preprocessing.StringLookup(vocabulary=vocab)\n",
    "vec_data = layer(data)\n",
    "print(vec_data)\n",
    "print(layer.get_vocabulary())"
   ],
   "metadata": {
    "collapsed": false,
    "pycharm": {
     "name": "#%%\n"
    }
   }
  },
  {
   "cell_type": "code",
   "execution_count": null,
   "outputs": [],
   "source": [
    "\n",
    "# 一些用于快速熟悉的例子\n"
   ],
   "metadata": {
    "collapsed": false,
    "pycharm": {
     "name": "#%%\n"
    }
   }
  },
  {
   "cell_type": "code",
   "execution_count": 18,
   "outputs": [
    {
     "name": "stdout",
     "output_type": "stream",
     "text": [
      "(32, 32, 3)\n",
      "Model: \"functional_5\"\n",
      "_________________________________________________________________\n",
      "Layer (type)                 Output Shape              Param #   \n",
      "=================================================================\n",
      "input (InputLayer)           [(None, 32, 32, 3)]       0         \n",
      "_________________________________________________________________\n",
      "sequential_5 (Sequential)    (None, 32, 32, 3)         0         \n",
      "_________________________________________________________________\n",
      "rescaling_5 (Rescaling)      (None, 32, 32, 3)         0         \n",
      "_________________________________________________________________\n",
      "resnet50 (Functional)        (None, 1, 1, 2048)        23587712  \n",
      "=================================================================\n",
      "Total params: 23,587,712\n",
      "Trainable params: 23,534,592\n",
      "Non-trainable params: 53,120\n",
      "_________________________________________________________________\n",
      "None\n"
     ]
    }
   ],
   "source": [
    "# 图像数据增强\n",
    "DataAugmentation = keras.models.Sequential(layers=[keras.layers.experimental.preprocessing.RandomFlip(mode='horizontal',\n",
    "                                                                                                      name='flip_layer'),\n",
    "                                                   keras.layers.experimental.preprocessing.RandomRotation(factor=0.1,\n",
    "                                                                                                          name='rotation_layer'),\n",
    "                                                   keras.layers.experimental.preprocessing.RandomZoom(height_factor=0.1,\n",
    "                                                                                                      width_factor=0.15,\n",
    "                                                                                                      name='zoom_layer')])\n",
    "model_input = keras.Input(shape=(32, 32, 3),\n",
    "                          dtype='int32',\n",
    "                          name='input')\n",
    "print(model_input.shape[1: ])\n",
    "x = DataAugmentation(model_input)\n",
    "x = keras.layers.experimental.preprocessing.Rescaling(scale=1 / 255.0, offset=0.0)(x)\n",
    "base_model = keras.applications.ResNet50(weights=None,\n",
    "                                         input_shape=model_input.shape[1: ],\n",
    "                                         include_top=False)\n",
    "model_output = base_model(x)\n",
    "model = keras.models.Model(inputs=[model_input], outputs=[model_output])\n",
    "print(model.summary())"
   ],
   "metadata": {
    "collapsed": false,
    "pycharm": {
     "name": "#%%\n"
    }
   }
  },
  {
   "cell_type": "code",
   "execution_count": 7,
   "outputs": [
    {
     "name": "stdout",
     "output_type": "stream",
     "text": [
      "tf.Tensor([4 3 2 3 2 4], shape=(6,), dtype=int64)\n",
      "['', '[UNK]', 'c', 'b', 'a']\n",
      "tf.Tensor(\n",
      "[[0. 0. 0. 0. 1.]\n",
      " [0. 0. 0. 1. 0.]\n",
      " [0. 0. 1. 0. 0.]\n",
      " [0. 1. 0. 0. 0.]\n",
      " [0. 1. 0. 0. 0.]\n",
      " [1. 0. 0. 0. 0.]], shape=(6, 5), dtype=float32)\n"
     ]
    }
   ],
   "source": [
    "# 对字符串特征进行one-hot编码\n",
    "data = tf.constant([\"a\", \"b\", \"c\", \"b\", \"c\", \"a\"])\n",
    "indexer = keras.layers.experimental.preprocessing.StringLookup()\n",
    "indexer.adapt(data)  # 按照词频统计方法将每个字符给予索引，形成词库字典(类似token）\n",
    "print(indexer(data))\n",
    "print(indexer.get_vocabulary())\n",
    "\n",
    "encoder = keras.layers.experimental.preprocessing.CategoryEncoding(output_mode='binary')\n",
    "encoder.adapt(indexer(data))  # 由于字符索引数值在某些时候是无意义的，故将其转化为one-hot编码\n",
    "\n",
    "test_data = tf.constant([\"a\", \"b\", \"c\", \"d\", \"e\", \"\"])\n",
    "print(encoder(indexer(test_data)))\n"
   ],
   "metadata": {
    "collapsed": false,
    "pycharm": {
     "name": "#%%\n"
    }
   }
  },
  {
   "cell_type": "code",
   "execution_count": 32,
   "outputs": [
    {
     "name": "stdout",
     "output_type": "stream",
     "text": [
      "[0, -1, 20, 50, 30, 10]\n",
      "tf.Tensor([5 2 2 3 4 0], shape=(6,), dtype=int64)\n",
      "tf.Tensor(\n",
      "[[0. 0. 0. 0. 0. 1.]\n",
      " [0. 0. 1. 0. 0. 0.]\n",
      " [0. 0. 1. 0. 0. 0.]\n",
      " [0. 0. 0. 1. 0. 0.]\n",
      " [0. 0. 0. 0. 1. 0.]\n",
      " [1. 0. 0. 0. 0. 0.]], shape=(6, 6), dtype=float32)\n",
      "tf.Tensor([5 5 2 3 1 0], shape=(6,), dtype=int64)\n",
      "tf.Tensor(\n",
      "[[0. 0. 0. 0. 0. 1.]\n",
      " [0. 0. 0. 0. 0. 1.]\n",
      " [0. 0. 1. 0. 0. 0.]\n",
      " [0. 0. 0. 1. 0. 0.]\n",
      " [0. 1. 0. 0. 0. 0.]\n",
      " [1. 0. 0. 0. 0. 0.]], shape=(6, 6), dtype=float32)\n"
     ]
    }
   ],
   "source": [
    "# 对整数特征进行one-hot编码\n",
    "data = tf.constant([10, 20, 20, 50, 30, 0])\n",
    "indexer = keras.layers.experimental.preprocessing.IntegerLookup(mask_value=0)\n",
    "indexer.adapt(data)\n",
    "print(indexer.get_vocabulary())\n",
    "print(indexer(data))\n",
    "\n",
    "encoder = keras.layers.experimental.preprocessing.CategoryEncoding(output_mode='binary')\n",
    "encoder.adapt(indexer(data))\n",
    "print(encoder(indexer(data)))\n",
    "\n",
    "test_data = np.array([10, 10, 20, 50, 60, 0])\n",
    "print(indexer(test_data))\n",
    "print(encoder(indexer(test_data)))"
   ],
   "metadata": {
    "collapsed": false,
    "pycharm": {
     "name": "#%%\n"
    }
   }
  },
  {
   "cell_type": "code",
   "execution_count": 35,
   "outputs": [
    {
     "name": "stdout",
     "output_type": "stream",
     "text": [
      "tf.Tensor(\n",
      "[[51]\n",
      " [61]\n",
      " [26]\n",
      " ...\n",
      " [62]\n",
      " [45]\n",
      " [ 2]], shape=(10000, 1), dtype=int64)\n",
      "tf.Tensor(\n",
      "[[0. 0. 0. ... 0. 0. 0.]\n",
      " [0. 0. 0. ... 1. 0. 0.]\n",
      " [0. 0. 0. ... 0. 0. 0.]\n",
      " ...\n",
      " [0. 0. 0. ... 0. 1. 0.]\n",
      " [0. 0. 0. ... 0. 0. 0.]\n",
      " [0. 0. 1. ... 0. 0. 0.]], shape=(10000, 64), dtype=float32)\n"
     ]
    }
   ],
   "source": [
    "# 使用hash技巧应用于整数类特征\n",
    "# 如果特征值中出现了许多不同的值，而每个值仅仅在数据中出现几次，则索引编制法不太好\n",
    "# 所以将值hash到固定大小的向量，这样使得特征空间大小易于管理，且无需显示索引\n",
    "# 简单来说，在实际应用中可能会遇到特征太多的情况，不好降维，与使用这样的方法强行降维，虽然出来的结果不好解释，并且会出现很多特征碰撞的可能性，但事实证明这并不影响解决问题\n",
    "data = np.random.randint(low=0, high=100000, size=(10000, 1))\n",
    "hasher = keras.layers.experimental.preprocessing.Hashing(num_bins=64, salt=1337)\n",
    "\n",
    "encoder = keras.layers.experimental.preprocessing.CategoryEncoding(max_tokens=64, output_mode='binary')\n",
    "print(hasher(data))\n",
    "print(encoder(hasher(data)))"
   ],
   "metadata": {
    "collapsed": false,
    "pycharm": {
     "name": "#%%\n"
    }
   }
  },
  {
   "cell_type": "code",
   "execution_count": 46,
   "outputs": [
    {
     "name": "stdout",
     "output_type": "stream",
     "text": [
      "['', '[UNK]', 'the', 'side', 'you', 'with', 'will', 'wider', 'them', 'than', 'sky', 'put', 'other', 'one', 'is', 'for', 'ease', 'contain', 'by', 'brain', 'beside', 'and']\n",
      "22\n",
      "tf.Tensor(\n",
      "[[ 2 19 14  7  9  2 10]\n",
      " [15 11  8  3 18  3  0]\n",
      " [ 2 13  2 12  6 17  0]\n",
      " [ 5 16 21  4 20  0  0]], shape=(4, 7), dtype=int64)\n",
      "(4, 7)\n",
      "tf.Tensor(\n",
      "[[[-0.02853128 -0.0104095   0.02489842 ... -0.02112566 -0.00692822\n",
      "   -0.02285489]\n",
      "  [ 0.03799292 -0.00695661 -0.04101665 ... -0.02707464  0.04982627\n",
      "   -0.01554082]\n",
      "  [ 0.0482854  -0.03858066  0.01819218 ...  0.04494145  0.00124483\n",
      "   -0.03128355]\n",
      "  ...\n",
      "  [-0.0123361   0.03155083 -0.03600039 ... -0.00257599  0.03386043\n",
      "   -0.02107763]\n",
      "  [-0.02853128 -0.0104095   0.02489842 ... -0.02112566 -0.00692822\n",
      "   -0.02285489]\n",
      "  [-0.0380096   0.00504389 -0.04097805 ...  0.00801922  0.04396241\n",
      "   -0.03800893]]\n",
      "\n",
      " [[ 0.00787327  0.01779865 -0.03343453 ... -0.04064745  0.03762361\n",
      "   -0.01897693]\n",
      "  [ 0.04433254  0.03004079 -0.03255284 ... -0.03753915  0.04003375\n",
      "    0.04107923]\n",
      "  [-0.04480114 -0.03335022  0.03789276 ... -0.04524975  0.02511984\n",
      "    0.01843563]\n",
      "  ...\n",
      "  [ 0.0111803   0.00023055 -0.0340682  ... -0.01323748 -0.00550182\n",
      "   -0.03127789]\n",
      "  [ 0.03782811 -0.03966553 -0.00495088 ... -0.03604972 -0.00875987\n",
      "    0.0473146 ]\n",
      "  [-0.0484353  -0.01395501 -0.01518183 ... -0.04616672  0.04850086\n",
      "    0.0177333 ]]\n",
      "\n",
      " [[-0.02853128 -0.0104095   0.02489842 ... -0.02112566 -0.00692822\n",
      "   -0.02285489]\n",
      "  [ 0.02223163 -0.0208873  -0.0179492  ... -0.00460238  0.00523838\n",
      "    0.01323427]\n",
      "  [-0.02853128 -0.0104095   0.02489842 ... -0.02112566 -0.00692822\n",
      "   -0.02285489]\n",
      "  ...\n",
      "  [ 0.02334832  0.03501651  0.01789193 ... -0.01278756 -0.00195681\n",
      "    0.00238364]\n",
      "  [-0.04368266  0.04506302 -0.03817077 ... -0.0268304   0.00094876\n",
      "   -0.02035073]\n",
      "  [-0.0484353  -0.01395501 -0.01518183 ... -0.04616672  0.04850086\n",
      "    0.0177333 ]]\n",
      "\n",
      " [[-0.02630808 -0.01714639  0.01708737 ...  0.03774408 -0.02215509\n",
      "    0.01589007]\n",
      "  [-0.02809653 -0.01681565 -0.04422711 ... -0.02803731  0.01807253\n",
      "   -0.00941809]\n",
      "  [ 0.01029559  0.034698   -0.03947226 ... -0.02921553  0.0209687\n",
      "   -0.04208598]\n",
      "  ...\n",
      "  [ 0.01490523  0.03819459  0.03587467 ...  0.04555811 -0.03335928\n",
      "   -0.02555051]\n",
      "  [-0.0484353  -0.01395501 -0.01518183 ... -0.04616672  0.04850086\n",
      "    0.0177333 ]\n",
      "  [-0.0484353  -0.01395501 -0.01518183 ... -0.04616672  0.04850086\n",
      "    0.0177333 ]]], shape=(4, 7, 64), dtype=float32)\n"
     ]
    }
   ],
   "source": [
    "# 将文本数据编码为数字索引向量，该方法主要适用于将数据扔进embedding层之前\n",
    "data = tf.constant(\n",
    "    [\n",
    "        \"The Brain is wider than the Sky\",\n",
    "        \"For put them side by side\",\n",
    "        \"The one the other will contain\",\n",
    "        \"With ease and You beside\",\n",
    "    ]\n",
    ")\n",
    "text_vectorizer = keras.layers.experimental.preprocessing.TextVectorization(output_mode='int')\n",
    "text_vectorizer.adapt(data)\n",
    "print(text_vectorizer.get_vocabulary())\n",
    "print(len(text_vectorizer.get_vocabulary()))\n",
    "cope_data = text_vectorizer(data)\n",
    "print(cope_data)\n",
    "print(cope_data.shape)\n",
    "\n",
    "embeddinger = keras.layers.Embedding(input_dim=len(text_vectorizer.get_vocabulary()), output_dim=64)\n",
    "\n",
    "print(embeddinger(cope_data))"
   ],
   "metadata": {
    "collapsed": false,
    "pycharm": {
     "name": "#%%\n"
    }
   }
  },
  {
   "cell_type": "code",
   "execution_count": 55,
   "outputs": [
    {
     "name": "stdout",
     "output_type": "stream",
     "text": [
      "tf.Tensor(\n",
      "[[0. 1. 0. 0. 0. 0. 0. 0. 0. 1. 1. 0. 0. 1. 0. 0. 1. 1. 1. 1. 0. 0. 0. 0.\n",
      "  0. 0. 0. 1. 1. 0. 0. 0. 0. 0. 0. 0. 1. 1. 0. 0. 0.]\n",
      " [0. 0. 1. 0. 0. 0. 0. 0. 0. 0. 0. 1. 1. 0. 0. 0. 0. 0. 0. 0. 1. 1. 1. 0.\n",
      "  0. 0. 0. 0. 0. 1. 1. 0. 0. 0. 1. 1. 0. 0. 0. 0. 0.]\n",
      " [0. 1. 0. 0. 0. 0. 0. 1. 1. 0. 0. 0. 0. 0. 1. 1. 0. 0. 0. 0. 0. 0. 0. 1.\n",
      "  1. 1. 1. 0. 0. 0. 0. 0. 0. 1. 0. 0. 0. 0. 0. 0. 0.]\n",
      " [0. 0. 0. 1. 1. 1. 1. 0. 0. 0. 0. 0. 0. 0. 0. 0. 0. 0. 0. 0. 0. 0. 0. 0.\n",
      "  0. 0. 0. 0. 0. 0. 0. 1. 1. 0. 0. 0. 0. 0. 1. 1. 1.]], shape=(4, 41), dtype=float32)\n"
     ]
    }
   ],
   "source": [
    "# 使用multi——hot将文本编码为密集的ngram矩阵\n",
    "# 多热编码就是某个特征可以含有多个值，即某条向量中可以有多个1，是独热的进化\n",
    "data = tf.constant(\n",
    "    [\n",
    "        \"The Brain is wider than the Sky\",\n",
    "        \"For put them side by side\",\n",
    "        \"The one the other will contain\",\n",
    "        \"With ease and You beside\",\n",
    "    ]\n",
    ")\n",
    "\n",
    "text_vectorizer = keras.layers.experimental.preprocessing.TextVectorization(output_mode='binary',\n",
    "                                                                            ngrams=(1, 2))\n",
    "text_vectorizer.adapt(data)\n",
    "print(text_vectorizer(data))"
   ],
   "metadata": {
    "collapsed": false,
    "pycharm": {
     "name": "#%%\n"
    }
   }
  },
  {
   "cell_type": "code",
   "execution_count": 53,
   "outputs": [
    {
     "name": "stdout",
     "output_type": "stream",
     "text": [
      "['[UNK]', 'the', 'side', 'you beside', 'you', 'with ease', 'with', 'will contain', 'will', 'wider than', 'wider', 'them side', 'them', 'the sky', 'the other', 'the one', 'the brain', 'than the', 'than', 'sky', 'side by', 'put them', 'put', 'other will', 'other', 'one the', 'one', 'is wider', 'is', 'for put', 'for', 'ease and', 'ease', 'contain', 'by side', 'by', 'brain is', 'brain', 'beside', 'and you', 'and']\n",
      "tf.Tensor(\n",
      "[[0.        1.6945957 0.        0.        0.        0.        0.\n",
      "  0.        0.        1.0986123 1.0986123 0.        0.        1.0986123\n",
      "  0.        0.        1.0986123 1.0986123 1.0986123 1.0986123 0.\n",
      "  0.        0.        0.        0.        0.        0.        1.0986123\n",
      "  1.0986123 0.        0.        0.        0.        0.        0.\n",
      "  0.        1.0986123 1.0986123 0.        0.        0.       ]\n",
      " [0.        0.        2.1972246 0.        0.        0.        0.\n",
      "  0.        0.        0.        0.        1.0986123 1.0986123 0.\n",
      "  0.        0.        0.        0.        0.        0.        1.0986123\n",
      "  1.0986123 1.0986123 0.        0.        0.        0.        0.\n",
      "  0.        1.0986123 1.0986123 0.        0.        0.        1.0986123\n",
      "  1.0986123 0.        0.        0.        0.        0.       ]\n",
      " [0.        1.6945957 0.        0.        0.        0.        0.\n",
      "  1.0986123 1.0986123 0.        0.        0.        0.        0.\n",
      "  1.0986123 1.0986123 0.        0.        0.        0.        0.\n",
      "  0.        0.        1.0986123 1.0986123 1.0986123 1.0986123 0.\n",
      "  0.        0.        0.        0.        0.        1.0986123 0.\n",
      "  0.        0.        0.        0.        0.        0.       ]\n",
      " [0.        0.        0.        1.0986123 1.0986123 1.0986123 1.0986123\n",
      "  0.        0.        0.        0.        0.        0.        0.\n",
      "  0.        0.        0.        0.        0.        0.        0.\n",
      "  0.        0.        0.        0.        0.        0.        0.\n",
      "  0.        0.        0.        1.0986123 1.0986123 0.        0.\n",
      "  0.        0.        0.        1.0986123 1.0986123 1.0986123]], shape=(4, 41), dtype=float32)\n",
      "(4, 41)\n"
     ]
    }
   ],
   "source": [
    "# 使用tf-idf加权将文本编码到ngram矩阵\n",
    "# 本质是先使用ngram，然后将每条使用multi-hot表示，然后再计算tf-idf值，将其中的1替换成对应的tf-idf值\n",
    "data = tf.constant(\n",
    "    [\n",
    "        \"The Brain is wider than the Sky\",\n",
    "        \"For put them side by side\",\n",
    "        \"The one the other will contain\",\n",
    "        \"With ease and You beside\",\n",
    "    ]\n",
    ")\n",
    "\n",
    "text_vectorizer = keras.layers.experimental.preprocessing.TextVectorization(output_mode='tf-idf', ngrams=(1, 2))\n",
    "text_vectorizer.adapt(data)\n",
    "print(text_vectorizer.get_vocabulary())\n",
    "print(text_vectorizer(data))\n",
    "print(text_vectorizer(data).shape)"
   ],
   "metadata": {
    "collapsed": false,
    "pycharm": {
     "name": "#%%\n"
    }
   }
  }
 ],
 "metadata": {
  "kernelspec": {
   "display_name": "Python 3",
   "language": "python",
   "name": "python3"
  },
  "language_info": {
   "codemirror_mode": {
    "name": "ipython",
    "version": 2
   },
   "file_extension": ".py",
   "mimetype": "text/x-python",
   "name": "python",
   "nbconvert_exporter": "python",
   "pygments_lexer": "ipython2",
   "version": "2.7.6"
  }
 },
 "nbformat": 4,
 "nbformat_minor": 0
}