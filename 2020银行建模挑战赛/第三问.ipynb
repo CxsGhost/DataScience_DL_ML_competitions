{
 "cells": [
  {
   "cell_type": "code",
   "execution_count": 1,
   "metadata": {
    "collapsed": true,
    "pycharm": {
     "name": "#%%\n"
    }
   },
   "outputs": [],
   "source": [
    "import pandas as pd\n",
    "import numpy as np"
   ]
  },
  {
   "cell_type": "code",
   "execution_count": 2,
   "outputs": [],
   "source": [
    "data = pd.read_csv('数据包/03_个人客户流水.csv')\n",
    "first = pd.read_excel('优级名单（分先后享受型）.xlsx', sheet_name='先享受型'    )\n",
    "later = pd.read_excel('优级名单（分先后享受型）.xlsx', sheet_name='后享受型'    )"
   ],
   "metadata": {
    "collapsed": false,
    "pycharm": {
     "name": "#%%\n"
    }
   }
  },
  {
   "cell_type": "code",
   "execution_count": 3,
   "outputs": [],
   "source": [
    "all_out = []\n",
    "all_in = []\n",
    "first_expense = [0 for _ in range(12)]\n",
    "later_ck = [0 for _ in range(12)]\n",
    "later_lc = [0 for _ in range(12)]\n",
    "later_ck_money = 0\n",
    "later_lc_money = 0"
   ],
   "metadata": {
    "collapsed": false,
    "pycharm": {
     "name": "#%%\n"
    }
   }
  },
  {
   "cell_type": "code",
   "execution_count": 4,
   "outputs": [],
   "source": [
    "first = first.values\n",
    "later = later.values\n",
    "data = data.values\n",
    "\n",
    "account_name = data[:, 0]"
   ],
   "metadata": {
    "collapsed": false,
    "pycharm": {
     "name": "#%%\n"
    }
   }
  },
  {
   "cell_type": "code",
   "execution_count": 5,
   "outputs": [],
   "source": [
    "# first_ind = np.zeros(shape=(1230923, ))\n",
    "# for fi in first:\n",
    "#     first_ind += (account_name == fi).astype(np.int)\n",
    "\n",
    "later_ind = np.zeros(shape=(1230923, ))\n",
    "for la in later:\n",
    "    later_ind += (account_name == la).astype(np.int)"
   ],
   "metadata": {
    "collapsed": false,
    "pycharm": {
     "name": "#%%\n"
    }
   }
  },
  {
   "cell_type": "code",
   "execution_count": 6,
   "outputs": [],
   "source": [
    "# first_data = data[first_ind >= 1]\n",
    "later_data = data[later_ind >= 1]\n"
   ],
   "metadata": {
    "collapsed": false,
    "pycharm": {
     "name": "#%%\n"
    }
   }
  },
  {
   "cell_type": "code",
   "execution_count": 9,
   "outputs": [],
   "source": [
    "later_ck_money = np.sum(later_data[later_data[:, 3] == 'CK', 4])\n",
    "later_lc_money = np.sum(later_data[later_data[:, 3] == 'GMLC', 4])\n",
    "\n",
    "a1 = later_ck_money / (later_ck_money + later_lc_money)\n",
    "a2 = later_lc_money / (later_ck_money + later_lc_money)\n",
    "\n",
    "for ac_ in later:\n",
    "    ind_ = later_data[:, 0] == ac_\n",
    "    data_ = later_data[ind_]\n",
    "    allin_ = np.sum(data_[data_[:, 3] == 'ZR', 4]) + np.sum(data_[data_[:, 3] == 'CK', 4])\n",
    "    allout_ = np.sum(data_[:, 4]) - allin_\n",
    "    all_in.append(allin_)\n",
    "    all_out.append(allout_)\n"
   ],
   "metadata": {
    "collapsed": false,
    "pycharm": {
     "name": "#%%\n"
    }
   }
  },
  {
   "cell_type": "code",
   "execution_count": 14,
   "outputs": [],
   "source": [
    "all_out = np.sort(all_out)\n",
    "all_out = np.abs(all_out)\n",
    "all_in = np.abs(all_in)\n",
    "in_out_rate = np.median(all_out) / np.median(all_in)"
   ],
   "metadata": {
    "collapsed": false,
    "pycharm": {
     "name": "#%%\n"
    }
   }
  },
  {
   "cell_type": "code",
   "execution_count": 14,
   "outputs": [],
   "source": [
    "for fi_ac in first:\n",
    "    data_ = first_data[first_data[:, 0] == fi_ac]\n",
    "    month = [0 for _ in range(12)]\n",
    "    for da in data_:\n",
    "        if da[3] == 'QTXF' or da[3] == 'GMLC':\n",
    "            ind_ = (da[1] - 20180000) // 100 - 1\n",
    "            if month[ind_]:\n",
    "                continue\n",
    "            else:\n",
    "                month[ind_] = 1\n",
    "                first_expense[ind_] += 1\n",
    "\n",
    "\n",
    "for la_ac in later:\n",
    "    data_ = later_data[later_data[:, 0] == la_ac]\n",
    "    month_ck = [0 for _ in range(12)]\n",
    "    month_lc = [0 for _ in range(12)]\n",
    "    for da in data_:\n",
    "        if da[3] == 'CK':\n",
    "            ind_ = (da[1] - 20180000) // 100 - 1\n",
    "            if month_ck[ind_]:\n",
    "                continue\n",
    "            else:\n",
    "                month_ck[ind_] = 1\n",
    "                later_ck[ind_] += 1\n",
    "        elif da[3] == 'GMLC':\n",
    "            ind_ = (da[1] - 20180000) // 100 - 1\n",
    "            if month_lc[ind_]:\n",
    "                continue\n",
    "            else:\n",
    "                month_lc[ind_] = 1\n",
    "                later_lc[ind_] += 1"
   ],
   "metadata": {
    "collapsed": false,
    "pycharm": {
     "name": "#%%\n"
    }
   }
  },
  {
   "cell_type": "code",
   "execution_count": 16,
   "outputs": [
    {
     "name": "stdout",
     "output_type": "stream",
     "text": [
      "搜索参数范围...\n",
      "最佳占比为：\n",
      "活期存款：0.049213143245874946\n",
      "定期存款：0.9350497216716239\n",
      "活期理财：0.0007868567541250486\n",
      "定期理财：0.014950278328375921\n"
     ]
    }
   ],
   "source": [
    "b1_list = []\n",
    "c1_list = []\n",
    "\n",
    "target_list = []\n",
    "\n",
    "r1 = 0.003\n",
    "r2 = 0.021\n",
    "p1 = 0.028\n",
    "p2 = 0.04\n",
    "\n",
    "print('搜索参数范围...')\n",
    "for b1 in np.arange(0.1, 1.05, 0.05):\n",
    "    for c1 in np.arange(0.1, 1.05, 0.05):\n",
    "        if a1 * b1 + a2 * c1 < in_out_rate:\n",
    "            continue\n",
    "        else:\n",
    "            b1_list.append(b1)\n",
    "            c1_list.append(c1)\n",
    "            target = a1 * b1 * r1 + a1 * (1 - b1) * r2 + a2 * c1 * p1 + a2 * (1 - c1) * p2\n",
    "            target_list.append(target)\n",
    "\n",
    "ind = np.argmax(target_list)\n",
    "b1 = b1_list[ind]\n",
    "b2 = 1 - b1\n",
    "c1 = c1_list[ind]\n",
    "c2 = 1 - c1\n",
    "print('最佳占比为：')\n",
    "print('活期存款：{}'.format(a1 * b1))\n",
    "print('定期存款：{}'.format(a1 * b2))\n",
    "print('活期理财：{}'.format(a2 * c1))\n",
    "print('定期理财：{}'.format(a2 * c2))\n",
    "\n"
   ],
   "metadata": {
    "collapsed": false,
    "pycharm": {
     "name": "#%%\n"
    }
   }
  }
 ],
 "metadata": {
  "kernelspec": {
   "display_name": "Python 3",
   "language": "python",
   "name": "python3"
  },
  "language_info": {
   "codemirror_mode": {
    "name": "ipython",
    "version": 2
   },
   "file_extension": ".py",
   "mimetype": "text/x-python",
   "name": "python",
   "nbconvert_exporter": "python",
   "pygments_lexer": "ipython2",
   "version": "2.7.6"
  }
 },
 "nbformat": 4,
 "nbformat_minor": 0
}