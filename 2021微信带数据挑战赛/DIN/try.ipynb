{
 "cells": [
  {
   "cell_type": "code",
   "execution_count": null,
   "metadata": {
    "collapsed": true
   },
   "outputs": [],
   "source": [
    "from tensorflow.keras import models\n",
    "from tensorflow.keras import layers\n",
    "from tensorflow.keras import activations\n",
    "from tensorflow.keras import backend as K\n",
    "from tensorflow.keras import losses\n",
    "from tensorflow.keras.layers.experimental import preprocessing\n",
    "from tensorflow.keras import utils\n",
    "import tensorflow as tf\n",
    "import numpy as np\n",
    "import pandas as pd"
   ]
  },
  {
   "cell_type": "code",
   "execution_count": null,
   "outputs": [],
   "source": [
    "FEED_INFO_PATH = \"my_data/my_info.csv\"\n",
    "\n",
    "my_feed_info = pd.read_csv(FEED_INFO_PATH, header=0, index_col=None)\n",
    "feed_feature = my_feed_info.columns"
   ],
   "metadata": {
    "collapsed": false,
    "pycharm": {
     "name": "#%%\n"
    }
   }
  },
  {
   "cell_type": "code",
   "execution_count": null,
   "outputs": [],
   "source": [
    "author_data = my_feed_info['authorid'].values\n",
    "videoplaysec_data = my_feed_info['videoplayseconds'].values\n",
    "song_data = my_feed_info['bgm_song_id'].values\n",
    "singer_data = my_feed_info['bgm_singer_id'].values\n",
    "tag_data = my_feed_info['manual_tag_list'].values"
   ],
   "metadata": {
    "collapsed": false,
    "pycharm": {
     "name": "#%%\n"
    }
   }
  },
  {
   "cell_type": "code",
   "execution_count": null,
   "outputs": [],
   "source": [
    "i_author_input = layers.Input(shape=(None, ), dtype='int32', name='i_author_input')\n",
    "dis_author_input = layers.Input(shape=(None, ), dtype='int32', name='dis_author_input')\n",
    "recom_author_input = layers.Input(shape=(1, ), dtype='int32', name='recom_author_input')\n",
    "\n",
    "author_encoder = preprocessing.IntegerLookup(num_oov_indices=0, mask_value=-1, name='author_lookup')\n",
    "author_encoder.adapt(author_data.astype(np.int32))\n",
    "\n",
    "i_author_enco = author_encoder(i_author_input)\n",
    "dis_author_enco = author_encoder(dis_author_input)\n",
    "recom_author_enco = author_encoder(recom_author_input)\n",
    "\n",
    "author_emb_layer = layers.Embedding(input_dim=len(author_encoder.get_vocabulary()), output_dim=32,\n",
    "                                    mask_zero=True, name='author_embedding_layer')\n",
    "\n",
    "i_author_emb = author_emb_layer(i_author_enco)\n",
    "dis_author_emb = author_emb_layer(dis_author_enco)\n",
    "recom_authot_emb = author_emb_layer(recom_author_enco)\n",
    "\n",
    "Author_Embedding = models.Model(inputs=[i_author_input, dis_author_input, recom_author_input],\n",
    "                                outputs=[i_author_emb, dis_author_emb, recom_authot_emb],\n",
    "                                name='Author_Embedding')"
   ],
   "metadata": {
    "collapsed": false,
    "pycharm": {
     "name": "#%%\n"
    }
   }
  },
  {
   "cell_type": "code",
   "execution_count": null,
   "outputs": [],
   "source": [
    "\n",
    "i_song_input = layers.Input(shape=(None, ), dtype='int32', name='i_song_input')\n",
    "dis_song_input = layers.Input(shape=(None, ), dtype='int32', name='dis_song_input')\n",
    "recom_song_input = layers.Input(shape=(1, ), dtype='int32', name='recom_song_input')\n",
    "\n",
    "song_encoder = preprocessing.IntegerLookup(num_oov_indices=0, mask_value=-1, name='song_lookup')\n",
    "song_encoder.adapt(song_data.astype(np.int32))\n",
    "\n",
    "i_song_enco = song_encoder(i_song_input)\n",
    "dis_song_enco = song_encoder(dis_song_input)\n",
    "recom_song_enco = song_encoder(recom_song_input)\n",
    "\n",
    "song_emb_layer = layers.Embedding(input_dim=len(song_encoder.get_vocabulary()), output_dim=32,\n",
    "                                  mask_zero=True, name='song_embedding_layer')\n",
    "\n",
    "i_song_emb = song_emb_layer(i_song_enco)\n",
    "dis_song_emb = song_emb_layer(dis_song_enco)\n",
    "recom_song_emb = song_emb_layer(recom_song_enco)\n",
    "\n",
    "Song_Embedding = models.Model(inputs=[i_song_input, dis_song_input, recom_song_input],\n",
    "                              outputs=[i_song_emb, dis_song_emb, recom_song_emb],\n",
    "                              name='Song_Embedding')"
   ],
   "metadata": {
    "collapsed": false,
    "pycharm": {
     "name": "#%%\n"
    }
   }
  },
  {
   "cell_type": "code",
   "execution_count": null,
   "outputs": [],
   "source": [
    "i_singer_input = layers.Input(shape=(None, ), dtype='int32', name='i_singer')\n",
    "dis_singer_input = layers.Input(shape=(None, ), dtype='int32', name='dis_singer')\n",
    "recom_singer_input = layers.Input(shape=(1, ), dtype='int32', name='recom_singer')\n",
    "\n",
    "singer_encoder = preprocessing.IntegerLookup(num_oov_indices=0, mask_value=-1, name='singer_encoder')\n",
    "singer_encoder.adapt(singer_data.astype(np.int32))\n",
    "\n",
    "i_singer_enco = singer_encoder(i_singer_input)\n",
    "dis_singer_enco = singer_encoder(dis_singer_input)\n",
    "recom_singer_enco = singer_encoder(recom_singer_input)\n",
    "\n",
    "singer_emb_layer = layers.Embedding(input_dim=len(singer_encoder.get_vocabulary()), output_dim=32,\n",
    "                                    mask_zero=True, name='singer_embedding_layer')\n",
    "\n",
    "i_singer_emb = singer_emb_layer(i_singer_enco)\n",
    "dis_singer_emb = singer_emb_layer(dis_singer_enco)\n",
    "recom_singer_emb = singer_emb_layer(recom_singer_enco)\n",
    "\n",
    "Singer_Embedding = models.Model(inputs=[i_singer_input, dis_singer_input, recom_singer_input],\n",
    "                                outputs=[i_singer_emb, dis_singer_emb, recom_singer_emb],\n",
    "                                name='Singer_Embedding')"
   ],
   "metadata": {
    "collapsed": false,
    "pycharm": {
     "name": "#%%\n"
    }
   }
  },
  {
   "cell_type": "code",
   "execution_count": null,
   "outputs": [],
   "source": [
    "i_psec_input = layers.Input(shape=(None, ), dtype='int32', name='i_psec_input')\n",
    "dis_psec_input = layers.Input(shape=(None, ), dtype='int32', name='dis_psec_input')\n",
    "recom_psec_input = layers.Input(shape=(1, ), dtype='int32', name='recom_psec_input')\n",
    "\n",
    "psec_encoder = preprocessing.IntegerLookup(num_oov_indices=0, mask_value=-1, name='psec_encoder')\n",
    "psec_encoder.adapt(videoplaysec_data.astype(np.int32))\n",
    "\n",
    "i_psec_enco = psec_encoder(i_psec_input)\n",
    "dis_psec_enco = psec_encoder(dis_psec_input)\n",
    "recom_psec_enco = psec_encoder(recom_psec_input)\n",
    "\n",
    "psec_emb_layer =layers.Embedding(input_dim=len(psec_encoder.get_vocabulary()), output_dim=4,\n",
    "                                 mask_zero=True, name='psec_embedding_layer')\n",
    "\n",
    "i_psec_emb = psec_emb_layer(i_psec_enco)\n",
    "dis_psec_emb = psec_emb_layer(dis_psec_enco)\n",
    "recom_psec_emb = psec_emb_layer(recom_psec_enco)\n",
    "\n",
    "Psec_Embedding = models.Model(inputs=[i_psec_input, dis_psec_input, recom_psec_input],\n",
    "                              outputs=[i_psec_emb, dis_psec_emb, recom_psec_emb],\n",
    "                              name='Psec_Embedding')\n",
    "print(Psec_Embedding.summary())\n",
    "print(Psec_Embedding.output_shape)\n",
    "utils.plot_model(Psec_Embedding)"
   ],
   "metadata": {
    "collapsed": false,
    "pycharm": {
     "name": "#%%\n"
    }
   }
  },
  {
   "cell_type": "code",
   "execution_count": null,
   "outputs": [],
   "source": [
    "tag_token = preprocessing.TextVectorization(output_mode='binary')\n",
    "tag_token.adapt(tag_data)\n",
    "tag_vocabulary = tag_token.get_vocabulary()"
   ],
   "metadata": {
    "collapsed": false,
    "pycharm": {
     "name": "#%%\n"
    }
   }
  },
  {
   "cell_type": "code",
   "execution_count": null,
   "outputs": [],
   "source": [
    "i_tag_input = layers.Input(shape=(None, len(tag_vocabulary)), dtype='int16', name='i_tag_input')\n",
    "dis_tag_input = layers.Input(shape=(None, len(tag_vocabulary)), dtype='int16', name='dis_tag_input')\n",
    "recom_tag_input = layers.Input(shape=(1, len(tag_vocabulary)), dtype='int16', name='recom_tag_input')\n",
    "\n",
    "tag_mask = layers.Masking(mask_value=0, name='tag_mask')\n",
    "\n",
    "i_tag_mask = tag_mask(i_tag_input)\n",
    "dis_tag_mask = tag_mask(dis_tag_input)\n",
    "\n",
    "tag_encoder = layers.TimeDistributed(layers.Dense(units=8, use_bias=False, name='tag_dense'), name='tag_encoder_layer')\n",
    "\n",
    "i_tag_enco = tag_encoder(i_tag_mask)\n",
    "dis_tag_enco = tag_encoder(dis_tag_mask)\n",
    "recom_tag_enco = tag_encoder(recom_tag_input)\n",
    "\n",
    "Tag_Encoder = models.Model(inputs=[i_tag_input, dis_tag_input, recom_tag_input],\n",
    "                           outputs=[i_tag_enco, dis_tag_enco, recom_tag_enco],\n",
    "                           name='Tag_Encoder')\n",
    "print(Tag_Encoder.summary())\n",
    "print(Tag_Encoder.output_shape)\n",
    "utils.plot_model(Tag_Encoder, show_shapes=True)"
   ],
   "metadata": {
    "collapsed": false,
    "pycharm": {
     "name": "#%%\n"
    }
   }
  },
  {
   "cell_type": "code",
   "execution_count": null,
   "outputs": [],
   "source": [
    "FEED_EMBEDDING_LEN = 512\n",
    "ifeed_emb_input = layers.Input(shape=(None, FEED_EMBEDDING_LEN), dtype='float32', name='ifeed_emb_input')\n",
    "disfeed_emb_input = layers.Input(shape=(None, FEED_EMBEDDING_LEN), dtype='float32', name='disfeed_emb_input')\n",
    "recomfeed_emb_input = layers.Input(shape=(1, FEED_EMBEDDING_LEN), dtype='float32', name='recomfeed_emb_input')\n",
    "\n",
    "feed_emb_mask = layers.Masking(mask_value=0, name='feed_emb_mask')\n",
    "\n",
    "ifeed_emb_mask = feed_emb_mask(ifeed_emb_input)\n",
    "disfeed_emb_mask = feed_emb_mask(disfeed_emb_input)\n",
    "\n",
    "Feed_Embedding = models.Model(inputs=[ifeed_emb_input, disfeed_emb_input, recomfeed_emb_input],\n",
    "                              outputs=[ifeed_emb_mask, disfeed_emb_mask, recomfeed_emb_input],\n",
    "                              name='Feed_Embedding')\n",
    "\n",
    "print(Feed_Embedding.summary())\n",
    "utils.plot_model(Feed_Embedding)"
   ],
   "metadata": {
    "collapsed": false,
    "pycharm": {
     "name": "#%%\n"
    }
   }
  },
  {
   "cell_type": "code",
   "execution_count": null,
   "outputs": [],
   "source": [
    "feature_concat_layer = layers.Concatenate(name='feature_concat_layer')\n",
    "\n",
    "i_feed_vec = feature_concat_layer([Author_Embedding.outputs[0],\n",
    "                                   Song_Embedding.outputs[0],\n",
    "                                   Singer_Embedding.outputs[0],\n",
    "                                   Psec_Embedding.outputs[0],\n",
    "                                   Tag_Encoder.outputs[0],\n",
    "                                   Feed_Embedding.outputs[0]])\n",
    "dis_feed_vec = feature_concat_layer([Author_Embedding.outputs[1],\n",
    "                                     Song_Embedding.outputs[1],\n",
    "                                     Singer_Embedding.outputs[1],\n",
    "                                     Psec_Embedding.outputs[1],\n",
    "                                     Tag_Encoder.outputs[1],\n",
    "                                     Feed_Embedding.outputs[1]])\n",
    "recom_feed_vec = feature_concat_layer([Author_Embedding.outputs[2],\n",
    "                                       Song_Embedding.outputs[2],\n",
    "                                       Singer_Embedding.outputs[2],\n",
    "                                       Psec_Embedding.outputs[2],\n",
    "                                       Tag_Encoder.outputs[2],\n",
    "                                       Feed_Embedding.outputs[2]])\n",
    "print(i_feed_vec)\n",
    "print(dis_feed_vec)\n",
    "print(recom_feed_vec)"
   ],
   "metadata": {
    "collapsed": false,
    "pycharm": {
     "name": "#%%\n"
    }
   }
  },
  {
   "cell_type": "code",
   "execution_count": null,
   "outputs": [],
   "source": [
    "class TileVecLayer(layers.Layer):\n",
    "    def __init__(self, **kwargs):\n",
    "        super(TileVecLayer, self).__init__(**kwargs)\n",
    "\n",
    "    def call(self, inputs, **kwargs):\n",
    "        return tf.tile(inputs[0], (1, tf.shape(inputs[1])[1], 1))\n",
    "\n",
    "\n",
    "class GetAttentionVec(layers.Layer):\n",
    "    def __init__(self, **kwargs):\n",
    "        super(GetAttentionVec, self).__init__(**kwargs)\n",
    "\n",
    "    def call(self, inputs, **kwargs):\n",
    "        score_mask = inputs[0]._keras_mask\n",
    "        the_output = tf.squeeze(inputs[0], axis=2)\n",
    "        the_output = tf.where(score_mask, the_output, K.ones_like(the_output) * (-2e30))\n",
    "        the_output = tf.expand_dims(tf.nn.softmax(the_output), axis=1)\n",
    "        the_output = tf.squeeze(tf.matmul(the_output, inputs[1]), axis=1)\n",
    "        return the_output\n",
    "\n",
    "\n",
    "tile_vec_layer = TileVecLayer(name='tile_vec_layer')\n",
    "attention_vec_layer = GetAttentionVec(name='attention_vec_layer')"
   ],
   "metadata": {
    "collapsed": false,
    "pycharm": {
     "name": "#%%\n"
    }
   }
  },
  {
   "cell_type": "code",
   "execution_count": null,
   "outputs": [],
   "source": [
    "i_action_input = layers.Input(shape=(None, 4), dtype='float32', name='i_action_input')\n",
    "i_tile_recom_vec = tile_vec_layer([recom_feed_vec, i_feed_vec])\n",
    "i_concat_vec = layers.Concatenate(name='i_concat_layer')([i_action_input,\n",
    "                                                          i_feed_vec,\n",
    "                                                          i_feed_vec - recom_feed_vec,\n",
    "                                                          i_tile_recom_vec])\n",
    "i_attention_score = layers.TimeDistributed(layers.Dense(units=256, name='i_attention_dense_1'), name='i_attention_1')(i_concat_vec)\n",
    "i_attention_score = layers.TimeDistributed(layers.PReLU(name='i_prelu'), name='i_attention_2')(i_attention_score)\n",
    "i_attention_score = layers.TimeDistributed(layers.Dense(units=1, name='i_attention_dense_2'), name='i_attention_3')(i_attention_score)\n",
    "i_attention_vec = attention_vec_layer([i_attention_score, i_feed_vec])"
   ],
   "metadata": {
    "collapsed": false,
    "pycharm": {
     "name": "#%%\n"
    }
   }
  },
  {
   "cell_type": "code",
   "execution_count": null,
   "outputs": [],
   "source": [
    "dis_tile_recom_vec = tile_vec_layer([recom_feed_vec, dis_feed_vec])\n",
    "dis_concat_vec = layers.Concatenate(name='dis_concat_layer')([dis_feed_vec,\n",
    "                                                              dis_feed_vec - recom_feed_vec,\n",
    "                                                              dis_tile_recom_vec])\n",
    "dis_attention_score = layers.TimeDistributed(layers.Dense(units=256, name='dis_attention_dense_1'), name='dis_attention_1')(dis_concat_vec)\n",
    "dis_attention_score = layers.TimeDistributed(layers.PReLU(name='dis_prelu'), name='dis_attention_2')(dis_attention_score)\n",
    "dis_attention_score = layers.TimeDistributed(layers.Dense(units=1, name='dis_attention_dense_2'), name='dis_attention_3')(dis_attention_score)\n",
    "dis_attention_vec = attention_vec_layer([dis_attention_score, dis_feed_vec])"
   ],
   "metadata": {
    "collapsed": false,
    "pycharm": {
     "name": "#%%\n"
    }
   }
  },
  {
   "cell_type": "code",
   "execution_count": null,
   "outputs": [],
   "source": [
    "device_input = layers.Input(shape=(4, ), dtype='float32', name='user_device_input')\n",
    "final_concat_layer = layers.Concatenate(name='final_concat_layer')\n",
    "final_vec = final_concat_layer([i_attention_vec, dis_attention_vec, K.squeeze(recom_feed_vec, 1), device_input])\n",
    "action_inference = layers.Dense(units=512, name='final_dense_1')(final_vec)\n",
    "action_inference = layers.PReLU(name='final_prelu_1')(action_inference)\n",
    "action_inference = layers.Dense(units=256, name='final_dense_2')(action_inference)\n",
    "action_inference = layers.PReLU(name='final_prelu_2')(action_inference)\n",
    "action_inference = layers.Dense(units=4, activation=activations.softmax, name='output_layer')(action_inference)"
   ],
   "metadata": {
    "collapsed": false,
    "pycharm": {
     "name": "#%%\n"
    }
   }
  },
  {
   "cell_type": "code",
   "execution_count": null,
   "outputs": [],
   "source": [
    "My_Model = models.Model(inputs=[i_author_input, dis_author_input, recom_author_input,\n",
    "                                i_song_input, dis_song_input, recom_song_input,\n",
    "                                i_singer_input, dis_singer_input, recom_singer_input,\n",
    "                                i_psec_input, dis_psec_input, recom_psec_input,\n",
    "                                i_tag_input, dis_tag_input, recom_tag_input,\n",
    "                                ifeed_emb_input, disfeed_emb_input, recomfeed_emb_input,\n",
    "                                i_action_input, device_input],\n",
    "                        outputs=[action_inference],\n",
    "                        name='My_Model')\n",
    "print(My_Model.summary())\n",
    "utils.plot_model(My_Model, show_shapes=True)\n"
   ],
   "metadata": {
    "collapsed": false,
    "pycharm": {
     "name": "#%%\n"
    }
   }
  }
 ],
 "metadata": {
  "kernelspec": {
   "display_name": "Python 3",
   "language": "python",
   "name": "python3"
  },
  "language_info": {
   "codemirror_mode": {
    "name": "ipython",
    "version": 2
   },
   "file_extension": ".py",
   "mimetype": "text/x-python",
   "name": "python",
   "nbconvert_exporter": "python",
   "pygments_lexer": "ipython2",
   "version": "2.7.6"
  }
 },
 "nbformat": 4,
 "nbformat_minor": 0
}