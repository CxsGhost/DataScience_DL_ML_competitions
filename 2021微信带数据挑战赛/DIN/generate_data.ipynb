{
 "cells": [
  {
   "cell_type": "code",
   "execution_count": 1,
   "metadata": {
    "collapsed": true
   },
   "outputs": [],
   "source": [
    "import pandas as pd\n",
    "import numpy as np\n",
    "import os"
   ]
  },
  {
   "cell_type": "code",
   "execution_count": 2,
   "outputs": [
    {
     "name": "stdout",
     "output_type": "stream",
     "text": [
      "         userid  feedid  date_  device  read_comment  comment  like  \\\n",
      "0             8   71474      1       1             0        0     1   \n",
      "1             8   73916      1       1             0        0     0   \n",
      "2             8   50282      1       1             0        0     0   \n",
      "3             8   11391      1       1             0        0     1   \n",
      "4             8   27349      1       1             0        0     0   \n",
      "...         ...     ...    ...     ...           ...      ...   ...   \n",
      "6677724  250236   72813     12       2             0        0     0   \n",
      "6677725  250236   52019     12       2             0        0     0   \n",
      "6677726  250236   51045     12       2             0        0     0   \n",
      "6677727  250236   46881     12       2             0        0     0   \n",
      "6677728  250236   53804     12       2             1        0     0   \n",
      "\n",
      "         click_avatar    play  \n",
      "0                   0     500  \n",
      "1                   0     250  \n",
      "2                   0     750  \n",
      "3                   0    3750  \n",
      "4                   0     250  \n",
      "...               ...     ...  \n",
      "6677724             0    6369  \n",
      "6677725             0   13212  \n",
      "6677726             0       0  \n",
      "6677727             0       0  \n",
      "6677728             0  160560  \n",
      "\n",
      "[6677729 rows x 9 columns]\n"
     ]
    }
   ],
   "source": [
    "user_data = pd.read_csv(\"my_data/pos_user_data.csv\", header=0, index_col=None)\n",
    "print(user_data)"
   ],
   "metadata": {
    "collapsed": false,
    "pycharm": {
     "name": "#%%\n"
    }
   }
  },
  {
   "cell_type": "code",
   "execution_count": null,
   "outputs": [],
   "source": [
    "os.mkdir(\"my_data/train/\")\n",
    "os.mkdir(\"my_data/test/\")"
   ],
   "metadata": {
    "collapsed": false,
    "pycharm": {
     "name": "#%%\n"
    }
   }
  },
  {
   "cell_type": "code",
   "execution_count": 3,
   "outputs": [],
   "source": [
    "recommend_col = ['userid', 'feedid', 'device']\n",
    "target_col = ['read_comment', 'comment', 'like', 'click_avatar']\n",
    "history_col = ['userid', 'feedid', 'read_comment', 'comment', 'like', 'click_avatar']"
   ],
   "metadata": {
    "collapsed": false,
    "pycharm": {
     "name": "#%%\n"
    }
   }
  },
  {
   "cell_type": "code",
   "execution_count": 4,
   "outputs": [],
   "source": [
    "train_recommend = pd.DataFrame(columns=recommend_col)\n",
    "train_target = pd.DataFrame(columns=target_col)\n",
    "train_history = pd.DataFrame(columns=history_col)\n",
    "test_recommend = pd.DataFrame(columns=recommend_col)\n",
    "test_target = pd.DataFrame(columns=target_col)\n",
    "test_history = pd.DataFrame(columns=history_col)"
   ],
   "metadata": {
    "collapsed": false,
    "pycharm": {
     "name": "#%%\n"
    }
   }
  },
  {
   "cell_type": "code",
   "execution_count": 5,
   "outputs": [],
   "source": [
    "user_id = user_data['userid'].unique()"
   ],
   "metadata": {
    "collapsed": false,
    "pycharm": {
     "name": "#%%\n"
    }
   }
  },
  {
   "cell_type": "code",
   "execution_count": 6,
   "outputs": [],
   "source": [
    "for u in user_id:\n",
    "    temp = user_data[user_data['userid'] == u]\n",
    "    date = temp['date_'].unique()\n",
    "    if len(date) >= 3:\n",
    "        train_recommend = train_recommend.append(temp[temp['date_'] == date[-2]][train_recommend.columns])\n",
    "        test_recommend = test_recommend.append(temp[temp['date_'] == date[-1]][test_recommend.columns])\n",
    "        train_target = train_target.append(temp[temp['date_'] == date[-2]][train_target.columns])\n",
    "        test_target = test_target.append(temp[temp['date_'] == date[-1]][test_target.columns])\n",
    "        train_history = train_history.append(temp[(temp['date_'] != date[-1]) & (temp['date_'] != date[-2])][train_history.columns])\n",
    "        test_history = test_history.append(temp[temp['date_'] != date[-1]][test_history.columns])\n",
    "    elif len(date) == 2:\n",
    "        train_recommend = train_recommend.append(temp[temp['date_'] == date[-1]][train_recommend.columns])\n",
    "        train_target = train_target.append(temp[temp['date_'] == date[-1]][train_target.columns])\n",
    "        train_history = train_history.append(temp[temp['date_'] != date[-2]][train_history.columns])\n",
    "    else:\n",
    "        if len(temp) < 2:\n",
    "            continue\n",
    "        else:\n",
    "            train_recommend = train_recommend.append(temp[-1: ][recommend_col])\n",
    "            train_target = train_target.append(temp[-1: ][target_col])\n",
    "            train_history = train_history.append(temp[ :-1][history_col])"
   ],
   "metadata": {
    "collapsed": false,
    "pycharm": {
     "name": "#%%\n"
    }
   }
  },
  {
   "cell_type": "code",
   "execution_count": 7,
   "outputs": [],
   "source": [
    "train_recommend.to_csv(\"my_data/train/train_recommend.csv\")\n",
    "train_history.to_csv(\"my_data/train/train_history.csv\")\n",
    "train_target.to_csv(\"my_data/train/train_target.csv\")\n",
    "test_recommend.to_csv(\"my_data/test/test_recommend.csv\")\n",
    "test_history.to_csv(\"my_data/test/test_history.csv\")\n",
    "test_target.to_csv(\"my_data/test/test_target.csv\")\n"
   ],
   "metadata": {
    "collapsed": false,
    "pycharm": {
     "name": "#%%\n"
    }
   }
  }
 ],
 "metadata": {
  "kernelspec": {
   "display_name": "Python 3",
   "language": "python",
   "name": "python3"
  },
  "language_info": {
   "codemirror_mode": {
    "name": "ipython",
    "version": 2
   },
   "file_extension": ".py",
   "mimetype": "text/x-python",
   "name": "python",
   "nbconvert_exporter": "python",
   "pygments_lexer": "ipython2",
   "version": "2.7.6"
  }
 },
 "nbformat": 4,
 "nbformat_minor": 0
}