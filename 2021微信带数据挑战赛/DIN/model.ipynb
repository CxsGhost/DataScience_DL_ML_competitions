{
 "cells": [
  {
   "cell_type": "code",
   "execution_count": 4,
   "outputs": [
    {
     "name": "stdout",
     "output_type": "stream",
     "text": [
      "2.5.0\n"
     ]
    }
   ],
   "source": [
    "from tensorflow.keras import models\n",
    "from tensorflow.keras import layers\n",
    "from tensorflow.keras import activations\n",
    "from tensorflow.keras import backend as K\n",
    "from tensorflow.keras import losses\n",
    "from tensorflow.keras import optimizers\n",
    "from tensorflow.keras import metrics\n",
    "from tensorflow.keras import callbacks\n",
    "from tensorflow.keras.layers.experimental import preprocessing\n",
    "from tensorflow.keras import utils\n",
    "import tensorflow as tf\n",
    "import numpy as np\n",
    "import pandas as pd\n",
    "\n",
    "print(tf.__version__)"
   ],
   "metadata": {
    "collapsed": false,
    "pycharm": {
     "name": "#%%\n"
    }
   }
  },
  {
   "cell_type": "code",
   "execution_count": 5,
   "outputs": [],
   "source": [
    "FEED_INFO_PATH = \"my_data/my_info_gene.csv\"\n",
    "\n",
    "my_feed_info = pd.read_csv(FEED_INFO_PATH, header=0, index_col=None)\n",
    "feed_feature = my_feed_info.columns"
   ],
   "metadata": {
    "collapsed": false,
    "pycharm": {
     "name": "#%%\n"
    }
   }
  },
  {
   "cell_type": "code",
   "execution_count": 6,
   "outputs": [],
   "source": [
    "author_data = my_feed_info['authorid'].values\n",
    "videoplaysec_data = my_feed_info['videoplayseconds'].values\n",
    "song_data = my_feed_info['bgm_song_id'].values\n",
    "singer_data = my_feed_info['bgm_singer_id'].values"
   ],
   "metadata": {
    "collapsed": false,
    "pycharm": {
     "name": "#%%\n"
    }
   }
  },
  {
   "cell_type": "code",
   "execution_count": 7,
   "outputs": [
    {
     "name": "stdout",
     "output_type": "stream",
     "text": [
      "WARNING:tensorflow:mask_value is deprecated, use mask_token instead.\n",
      "WARNING:tensorflow:oov_value is deprecated, use oov_token instead.\n"
     ]
    }
   ],
   "source": [
    "i_author_input = layers.Input(shape=(None, ), dtype='int32', name='i_author_input')\n",
    "dis_author_input = layers.Input(shape=(None, ), dtype='int32', name='dis_author_input')\n",
    "recom_author_input = layers.Input(shape=(1, ), dtype='int32', name='recom_author_input')\n",
    "\n",
    "author_encoder = preprocessing.IntegerLookup(oov_value=-2, mask_value=-1, name='author_lookup')\n",
    "author_encoder.adapt(author_data.astype(np.int32))\n",
    "\n",
    "i_author_enco = author_encoder(i_author_input)\n",
    "dis_author_enco = author_encoder(dis_author_input)\n",
    "recom_author_enco = author_encoder(recom_author_input)\n",
    "\n",
    "author_emb_layer = layers.Embedding(input_dim=len(author_encoder.get_vocabulary()), output_dim=32,\n",
    "                                    mask_zero=True, name='author_embedding_layer')\n",
    "\n",
    "i_author_emb = author_emb_layer(i_author_enco)\n",
    "dis_author_emb = author_emb_layer(dis_author_enco)\n",
    "recom_authot_emb = author_emb_layer(recom_author_enco)\n",
    "\n",
    "Author_Embedding = models.Model(inputs=[i_author_input, dis_author_input, recom_author_input],\n",
    "                                outputs=[i_author_emb, dis_author_emb, recom_authot_emb],\n",
    "                                name='Author_Embedding')"
   ],
   "metadata": {
    "collapsed": false,
    "pycharm": {
     "name": "#%%\n"
    }
   }
  },
  {
   "cell_type": "code",
   "execution_count": 8,
   "outputs": [
    {
     "name": "stdout",
     "output_type": "stream",
     "text": [
      "WARNING:tensorflow:mask_value is deprecated, use mask_token instead.\n",
      "WARNING:tensorflow:oov_value is deprecated, use oov_token instead.\n"
     ]
    }
   ],
   "source": [
    "\n",
    "i_song_input = layers.Input(shape=(None, ), dtype='int32', name='i_song_input')\n",
    "dis_song_input = layers.Input(shape=(None, ), dtype='int32', name='dis_song_input')\n",
    "recom_song_input = layers.Input(shape=(1, ), dtype='int32', name='recom_song_input')\n",
    "\n",
    "song_encoder = preprocessing.IntegerLookup(oov_value=-2, mask_value=-1, name='song_lookup')\n",
    "song_encoder.adapt(song_data.astype(np.int32))\n",
    "\n",
    "i_song_enco = song_encoder(i_song_input)\n",
    "dis_song_enco = song_encoder(dis_song_input)\n",
    "recom_song_enco = song_encoder(recom_song_input)\n",
    "\n",
    "song_emb_layer = layers.Embedding(input_dim=len(song_encoder.get_vocabulary()), output_dim=32,\n",
    "                                  mask_zero=True, name='song_embedding_layer')\n",
    "\n",
    "i_song_emb = song_emb_layer(i_song_enco)\n",
    "dis_song_emb = song_emb_layer(dis_song_enco)\n",
    "recom_song_emb = song_emb_layer(recom_song_enco)\n",
    "\n",
    "Song_Embedding = models.Model(inputs=[i_song_input, dis_song_input, recom_song_input],\n",
    "                              outputs=[i_song_emb, dis_song_emb, recom_song_emb],\n",
    "                              name='Song_Embedding')"
   ],
   "metadata": {
    "collapsed": false,
    "pycharm": {
     "name": "#%%\n"
    }
   }
  },
  {
   "cell_type": "code",
   "execution_count": 9,
   "outputs": [
    {
     "name": "stdout",
     "output_type": "stream",
     "text": [
      "WARNING:tensorflow:mask_value is deprecated, use mask_token instead.\n",
      "WARNING:tensorflow:oov_value is deprecated, use oov_token instead.\n"
     ]
    }
   ],
   "source": [
    "i_singer_input = layers.Input(shape=(None, ), dtype='int32', name='i_singer')\n",
    "dis_singer_input = layers.Input(shape=(None, ), dtype='int32', name='dis_singer')\n",
    "recom_singer_input = layers.Input(shape=(1, ), dtype='int32', name='recom_singer')\n",
    "\n",
    "singer_encoder = preprocessing.IntegerLookup(oov_value=-2, mask_value=-1, name='singer_encoder')\n",
    "singer_encoder.adapt(singer_data.astype(np.int32))\n",
    "\n",
    "i_singer_enco = singer_encoder(i_singer_input)\n",
    "dis_singer_enco = singer_encoder(dis_singer_input)\n",
    "recom_singer_enco = singer_encoder(recom_singer_input)\n",
    "\n",
    "singer_emb_layer = layers.Embedding(input_dim=len(singer_encoder.get_vocabulary()), output_dim=32,\n",
    "                                    mask_zero=True, name='singer_embedding_layer')\n",
    "\n",
    "i_singer_emb = singer_emb_layer(i_singer_enco)\n",
    "dis_singer_emb = singer_emb_layer(dis_singer_enco)\n",
    "recom_singer_emb = singer_emb_layer(recom_singer_enco)\n",
    "\n",
    "Singer_Embedding = models.Model(inputs=[i_singer_input, dis_singer_input, recom_singer_input],\n",
    "                                outputs=[i_singer_emb, dis_singer_emb, recom_singer_emb],\n",
    "                                name='Singer_Embedding')"
   ],
   "metadata": {
    "collapsed": false,
    "pycharm": {
     "name": "#%%\n"
    }
   }
  },
  {
   "cell_type": "code",
   "execution_count": 10,
   "outputs": [
    {
     "name": "stdout",
     "output_type": "stream",
     "text": [
      "WARNING:tensorflow:mask_value is deprecated, use mask_token instead.\n",
      "WARNING:tensorflow:oov_value is deprecated, use oov_token instead.\n"
     ]
    }
   ],
   "source": [
    "i_psec_input = layers.Input(shape=(None, ), dtype='int32', name='i_psec_input')\n",
    "dis_psec_input = layers.Input(shape=(None, ), dtype='int32', name='dis_psec_input')\n",
    "recom_psec_input = layers.Input(shape=(1, ), dtype='int32', name='recom_psec_input')\n",
    "\n",
    "psec_encoder = preprocessing.IntegerLookup(oov_value=-2, mask_value=-1, name='psec_encoder')\n",
    "psec_encoder.adapt(videoplaysec_data.astype(np.int32))\n",
    "\n",
    "i_psec_enco = psec_encoder(i_psec_input)\n",
    "dis_psec_enco = psec_encoder(dis_psec_input)\n",
    "recom_psec_enco = psec_encoder(recom_psec_input)\n",
    "\n",
    "psec_emb_layer =layers.Embedding(input_dim=len(psec_encoder.get_vocabulary()), output_dim=4,\n",
    "                                 mask_zero=True, name='psec_embedding_layer')\n",
    "\n",
    "i_psec_emb = psec_emb_layer(i_psec_enco)\n",
    "dis_psec_emb = psec_emb_layer(dis_psec_enco)\n",
    "recom_psec_emb = psec_emb_layer(recom_psec_enco)\n",
    "\n",
    "Psec_Embedding = models.Model(inputs=[i_psec_input, dis_psec_input, recom_psec_input],\n",
    "                              outputs=[i_psec_emb, dis_psec_emb, recom_psec_emb],\n",
    "                              name='Psec_Embedding')"
   ],
   "metadata": {
    "collapsed": false,
    "pycharm": {
     "name": "#%%\n"
    }
   }
  },
  {
   "cell_type": "code",
   "execution_count": 11,
   "outputs": [],
   "source": [
    "TAG_NUMBER = 351\n",
    "i_tag_input = layers.Input(shape=(None, TAG_NUMBER), dtype='int16', name='i_tag_input')\n",
    "dis_tag_input = layers.Input(shape=(None, TAG_NUMBER), dtype='int16', name='dis_tag_input')\n",
    "recom_tag_input = layers.Input(shape=(1, TAG_NUMBER), dtype='int16', name='recom_tag_input')\n",
    "\n",
    "tag_mask = layers.Masking(mask_value=0, name='tag_mask')\n",
    "\n",
    "i_tag_mask = tag_mask(i_tag_input)\n",
    "dis_tag_mask = tag_mask(dis_tag_input)\n",
    "\n",
    "tag_encoder = layers.TimeDistributed(layers.Dense(units=8, use_bias=False, name='tag_dense'), name='tag_encoder_layer')\n",
    "\n",
    "i_tag_enco = tag_encoder(i_tag_mask)\n",
    "dis_tag_enco = tag_encoder(dis_tag_mask)\n",
    "recom_tag_enco = tag_encoder(recom_tag_input)\n",
    "\n",
    "Tag_Encoder = models.Model(inputs=[i_tag_input, dis_tag_input, recom_tag_input],\n",
    "                           outputs=[i_tag_enco, dis_tag_enco, recom_tag_enco],\n",
    "                           name='Tag_Encoder')"
   ],
   "metadata": {
    "collapsed": false,
    "pycharm": {
     "name": "#%%\n"
    }
   }
  },
  {
   "cell_type": "code",
   "execution_count": 12,
   "outputs": [],
   "source": [
    "FEED_EMBEDDING_LEN = 512\n",
    "ifeed_emb_input = layers.Input(shape=(None, FEED_EMBEDDING_LEN), dtype='float32', name='ifeed_emb_input')\n",
    "disfeed_emb_input = layers.Input(shape=(None, FEED_EMBEDDING_LEN), dtype='float32', name='disfeed_emb_input')\n",
    "recomfeed_emb_input = layers.Input(shape=(1, FEED_EMBEDDING_LEN), dtype='float32', name='recomfeed_emb_input')\n",
    "\n",
    "feed_emb_mask = layers.Masking(mask_value=0, name='feed_emb_mask')\n",
    "\n",
    "ifeed_emb_mask = feed_emb_mask(ifeed_emb_input)\n",
    "disfeed_emb_mask = feed_emb_mask(disfeed_emb_input)\n",
    "\n",
    "Feed_Embedding = models.Model(inputs=[ifeed_emb_input, disfeed_emb_input, recomfeed_emb_input],\n",
    "                              outputs=[ifeed_emb_mask, disfeed_emb_mask, recomfeed_emb_input],\n",
    "                              name='Feed_Embedding')"
   ],
   "metadata": {
    "collapsed": false,
    "pycharm": {
     "name": "#%%\n"
    }
   }
  },
  {
   "cell_type": "code",
   "execution_count": 13,
   "outputs": [],
   "source": [
    "feature_concat_layer = layers.Concatenate(name='feature_concat_layer')\n",
    "\n",
    "i_feed_vec = feature_concat_layer([Author_Embedding.outputs[0],\n",
    "                                   Song_Embedding.outputs[0],\n",
    "                                   Singer_Embedding.outputs[0],\n",
    "                                   Psec_Embedding.outputs[0],\n",
    "                                   Tag_Encoder.outputs[0],\n",
    "                                   Feed_Embedding.outputs[0]])\n",
    "dis_feed_vec = feature_concat_layer([Author_Embedding.outputs[1],\n",
    "                                     Song_Embedding.outputs[1],\n",
    "                                     Singer_Embedding.outputs[1],\n",
    "                                     Psec_Embedding.outputs[1],\n",
    "                                     Tag_Encoder.outputs[1],\n",
    "                                     Feed_Embedding.outputs[1]])\n",
    "recom_feed_vec = feature_concat_layer([Author_Embedding.outputs[2],\n",
    "                                       Song_Embedding.outputs[2],\n",
    "                                       Singer_Embedding.outputs[2],\n",
    "                                       Psec_Embedding.outputs[2],\n",
    "                                       Tag_Encoder.outputs[2],\n",
    "                                       Feed_Embedding.outputs[2]])"
   ],
   "metadata": {
    "collapsed": false,
    "pycharm": {
     "name": "#%%\n"
    }
   }
  },
  {
   "cell_type": "code",
   "execution_count": 14,
   "outputs": [],
   "source": [
    "class TileVecLayer(layers.Layer):\n",
    "    def __init__(self, **kwargs):\n",
    "        super(TileVecLayer, self).__init__(**kwargs)\n",
    "\n",
    "    def call(self, inputs, **kwargs):\n",
    "        return tf.tile(inputs[0], (1, tf.shape(inputs[1])[1], 1))\n",
    "\n",
    "\n",
    "class GetAttentionVec(layers.Layer):\n",
    "    def __init__(self, **kwargs):\n",
    "        super(GetAttentionVec, self).__init__(**kwargs)\n",
    "\n",
    "    def call(self, inputs, **kwargs):\n",
    "        score_mask = inputs[0]._keras_mask\n",
    "        the_output = tf.squeeze(inputs[0], axis=2)\n",
    "        the_output = tf.where(score_mask, the_output, K.ones_like(the_output) * (-2e30))\n",
    "        the_output = tf.expand_dims(tf.nn.softmax(the_output), axis=1)\n",
    "        the_output = tf.squeeze(tf.matmul(the_output, inputs[1]), axis=1)\n",
    "        return the_output\n",
    "\n",
    "\n",
    "class SubsVecLayer(layers.Layer):\n",
    "    def __init__(self, **kwargs):\n",
    "        super(SubsVecLayer, self).__init__(**kwargs)\n",
    "\n",
    "    def call(self, inputs, **kwargs):\n",
    "        return tf.subtract(inputs[0], inputs[1])\n",
    "\n",
    "    def compute_output_shape(self, input_shape):\n",
    "        return tuple(input_shape[0])\n",
    "\n",
    "\n",
    "class SqueezeLayer(layers.Layer):\n",
    "    def __init__(self, **kwargs):\n",
    "        super(SqueezeLayer, self).__init__(**kwargs)\n",
    "\n",
    "    def call(self, inputs, **kwargs):\n",
    "        return tf.squeeze(inputs, axis=1)\n",
    "\n",
    "\n",
    "tile_vec_layer = TileVecLayer(name='tile_vec_layer')\n",
    "attention_vec_layer = GetAttentionVec(name='attention_vec_layer')\n",
    "subs_vec_layer = SubsVecLayer(name='subs_vec_layer')\n",
    "squeeze_vec_layer = SqueezeLayer(name='squeeze_vec_layer')"
   ],
   "metadata": {
    "collapsed": false,
    "pycharm": {
     "name": "#%%\n"
    }
   }
  },
  {
   "cell_type": "code",
   "execution_count": 15,
   "outputs": [
    {
     "ename": "AttributeError",
     "evalue": "in user code:\n\n    <ipython-input-14-600abe72a691>:14 call  *\n        score_mask = inputs[0]._keras_mask\n    E:\\Anaconda\\lib\\site-packages\\tensorflow\\python\\framework\\ops.py:401 __getattr__\n        self.__getattribute__(name)\n\n    AttributeError: 'Tensor' object has no attribute '_keras_mask'\n",
     "output_type": "error",
     "traceback": [
      "\u001B[1;31m---------------------------------------------------------------------------\u001B[0m",
      "\u001B[1;31mAttributeError\u001B[0m                            Traceback (most recent call last)",
      "\u001B[1;32m<ipython-input-15-51edabc927f7>\u001B[0m in \u001B[0;36m<module>\u001B[1;34m\u001B[0m\n\u001B[0;32m      9\u001B[0m \u001B[0mi_attention_score\u001B[0m \u001B[1;33m=\u001B[0m \u001B[0mlayers\u001B[0m\u001B[1;33m.\u001B[0m\u001B[0mTimeDistributed\u001B[0m\u001B[1;33m(\u001B[0m\u001B[0mlayers\u001B[0m\u001B[1;33m.\u001B[0m\u001B[0mPReLU\u001B[0m\u001B[1;33m(\u001B[0m\u001B[0mname\u001B[0m\u001B[1;33m=\u001B[0m\u001B[1;34m'i_prelu'\u001B[0m\u001B[1;33m)\u001B[0m\u001B[1;33m,\u001B[0m \u001B[0mname\u001B[0m\u001B[1;33m=\u001B[0m\u001B[1;34m'i_attention_2'\u001B[0m\u001B[1;33m)\u001B[0m\u001B[1;33m(\u001B[0m\u001B[0mi_attention_score\u001B[0m\u001B[1;33m)\u001B[0m\u001B[1;33m\u001B[0m\u001B[1;33m\u001B[0m\u001B[0m\n\u001B[0;32m     10\u001B[0m \u001B[0mi_attention_score\u001B[0m \u001B[1;33m=\u001B[0m \u001B[0mlayers\u001B[0m\u001B[1;33m.\u001B[0m\u001B[0mTimeDistributed\u001B[0m\u001B[1;33m(\u001B[0m\u001B[0mlayers\u001B[0m\u001B[1;33m.\u001B[0m\u001B[0mDense\u001B[0m\u001B[1;33m(\u001B[0m\u001B[0munits\u001B[0m\u001B[1;33m=\u001B[0m\u001B[1;36m1\u001B[0m\u001B[1;33m,\u001B[0m \u001B[0mname\u001B[0m\u001B[1;33m=\u001B[0m\u001B[1;34m'i_attention_dense_2'\u001B[0m\u001B[1;33m)\u001B[0m\u001B[1;33m,\u001B[0m \u001B[0mname\u001B[0m\u001B[1;33m=\u001B[0m\u001B[1;34m'i_attention_3'\u001B[0m\u001B[1;33m)\u001B[0m\u001B[1;33m(\u001B[0m\u001B[0mi_attention_score\u001B[0m\u001B[1;33m)\u001B[0m\u001B[1;33m\u001B[0m\u001B[1;33m\u001B[0m\u001B[0m\n\u001B[1;32m---> 11\u001B[1;33m \u001B[0mi_attention_vec\u001B[0m \u001B[1;33m=\u001B[0m \u001B[0mattention_vec_layer\u001B[0m\u001B[1;33m(\u001B[0m\u001B[1;33m[\u001B[0m\u001B[0mi_attention_score\u001B[0m\u001B[1;33m,\u001B[0m \u001B[0mi_feed_vec\u001B[0m\u001B[1;33m]\u001B[0m\u001B[1;33m)\u001B[0m\u001B[1;33m\u001B[0m\u001B[1;33m\u001B[0m\u001B[0m\n\u001B[0m\u001B[0;32m     12\u001B[0m \u001B[1;33m\u001B[0m\u001B[0m\n",
      "\u001B[1;32mE:\\Anaconda\\lib\\site-packages\\tensorflow\\python\\keras\\engine\\base_layer.py\u001B[0m in \u001B[0;36m__call__\u001B[1;34m(self, *args, **kwargs)\u001B[0m\n\u001B[0;32m    968\u001B[0m     \u001B[1;32mif\u001B[0m \u001B[0m_in_functional_construction_mode\u001B[0m\u001B[1;33m(\u001B[0m\u001B[0mself\u001B[0m\u001B[1;33m,\u001B[0m \u001B[0minputs\u001B[0m\u001B[1;33m,\u001B[0m \u001B[0margs\u001B[0m\u001B[1;33m,\u001B[0m \u001B[0mkwargs\u001B[0m\u001B[1;33m,\u001B[0m \u001B[0minput_list\u001B[0m\u001B[1;33m)\u001B[0m\u001B[1;33m:\u001B[0m\u001B[1;33m\u001B[0m\u001B[1;33m\u001B[0m\u001B[0m\n\u001B[0;32m    969\u001B[0m       return self._functional_construction_call(inputs, args, kwargs,\n\u001B[1;32m--> 970\u001B[1;33m                                                 input_list)\n\u001B[0m\u001B[0;32m    971\u001B[0m \u001B[1;33m\u001B[0m\u001B[0m\n\u001B[0;32m    972\u001B[0m     \u001B[1;31m# Maintains info about the `Layer.call` stack.\u001B[0m\u001B[1;33m\u001B[0m\u001B[1;33m\u001B[0m\u001B[1;33m\u001B[0m\u001B[0m\n",
      "\u001B[1;32mE:\\Anaconda\\lib\\site-packages\\tensorflow\\python\\keras\\engine\\base_layer.py\u001B[0m in \u001B[0;36m_functional_construction_call\u001B[1;34m(self, inputs, args, kwargs, input_list)\u001B[0m\n\u001B[0;32m   1106\u001B[0m       \u001B[1;31m# Check input assumptions set after layer building, e.g. input shape.\u001B[0m\u001B[1;33m\u001B[0m\u001B[1;33m\u001B[0m\u001B[1;33m\u001B[0m\u001B[0m\n\u001B[0;32m   1107\u001B[0m       outputs = self._keras_tensor_symbolic_call(\n\u001B[1;32m-> 1108\u001B[1;33m           inputs, input_masks, args, kwargs)\n\u001B[0m\u001B[0;32m   1109\u001B[0m \u001B[1;33m\u001B[0m\u001B[0m\n\u001B[0;32m   1110\u001B[0m       \u001B[1;32mif\u001B[0m \u001B[0moutputs\u001B[0m \u001B[1;32mis\u001B[0m \u001B[1;32mNone\u001B[0m\u001B[1;33m:\u001B[0m\u001B[1;33m\u001B[0m\u001B[1;33m\u001B[0m\u001B[0m\n",
      "\u001B[1;32mE:\\Anaconda\\lib\\site-packages\\tensorflow\\python\\keras\\engine\\base_layer.py\u001B[0m in \u001B[0;36m_keras_tensor_symbolic_call\u001B[1;34m(self, inputs, input_masks, args, kwargs)\u001B[0m\n\u001B[0;32m    838\u001B[0m       \u001B[1;32mreturn\u001B[0m \u001B[0mnest\u001B[0m\u001B[1;33m.\u001B[0m\u001B[0mmap_structure\u001B[0m\u001B[1;33m(\u001B[0m\u001B[0mkeras_tensor\u001B[0m\u001B[1;33m.\u001B[0m\u001B[0mKerasTensor\u001B[0m\u001B[1;33m,\u001B[0m \u001B[0moutput_signature\u001B[0m\u001B[1;33m)\u001B[0m\u001B[1;33m\u001B[0m\u001B[1;33m\u001B[0m\u001B[0m\n\u001B[0;32m    839\u001B[0m     \u001B[1;32melse\u001B[0m\u001B[1;33m:\u001B[0m\u001B[1;33m\u001B[0m\u001B[1;33m\u001B[0m\u001B[0m\n\u001B[1;32m--> 840\u001B[1;33m       \u001B[1;32mreturn\u001B[0m \u001B[0mself\u001B[0m\u001B[1;33m.\u001B[0m\u001B[0m_infer_output_signature\u001B[0m\u001B[1;33m(\u001B[0m\u001B[0minputs\u001B[0m\u001B[1;33m,\u001B[0m \u001B[0margs\u001B[0m\u001B[1;33m,\u001B[0m \u001B[0mkwargs\u001B[0m\u001B[1;33m,\u001B[0m \u001B[0minput_masks\u001B[0m\u001B[1;33m)\u001B[0m\u001B[1;33m\u001B[0m\u001B[1;33m\u001B[0m\u001B[0m\n\u001B[0m\u001B[0;32m    841\u001B[0m \u001B[1;33m\u001B[0m\u001B[0m\n\u001B[0;32m    842\u001B[0m   \u001B[1;32mdef\u001B[0m \u001B[0m_infer_output_signature\u001B[0m\u001B[1;33m(\u001B[0m\u001B[0mself\u001B[0m\u001B[1;33m,\u001B[0m \u001B[0minputs\u001B[0m\u001B[1;33m,\u001B[0m \u001B[0margs\u001B[0m\u001B[1;33m,\u001B[0m \u001B[0mkwargs\u001B[0m\u001B[1;33m,\u001B[0m \u001B[0minput_masks\u001B[0m\u001B[1;33m)\u001B[0m\u001B[1;33m:\u001B[0m\u001B[1;33m\u001B[0m\u001B[1;33m\u001B[0m\u001B[0m\n",
      "\u001B[1;32mE:\\Anaconda\\lib\\site-packages\\tensorflow\\python\\keras\\engine\\base_layer.py\u001B[0m in \u001B[0;36m_infer_output_signature\u001B[1;34m(self, inputs, args, kwargs, input_masks)\u001B[0m\n\u001B[0;32m    878\u001B[0m           \u001B[0mself\u001B[0m\u001B[1;33m.\u001B[0m\u001B[0m_maybe_build\u001B[0m\u001B[1;33m(\u001B[0m\u001B[0minputs\u001B[0m\u001B[1;33m)\u001B[0m\u001B[1;33m\u001B[0m\u001B[1;33m\u001B[0m\u001B[0m\n\u001B[0;32m    879\u001B[0m           \u001B[0minputs\u001B[0m \u001B[1;33m=\u001B[0m \u001B[0mself\u001B[0m\u001B[1;33m.\u001B[0m\u001B[0m_maybe_cast_inputs\u001B[0m\u001B[1;33m(\u001B[0m\u001B[0minputs\u001B[0m\u001B[1;33m)\u001B[0m\u001B[1;33m\u001B[0m\u001B[1;33m\u001B[0m\u001B[0m\n\u001B[1;32m--> 880\u001B[1;33m           \u001B[0moutputs\u001B[0m \u001B[1;33m=\u001B[0m \u001B[0mcall_fn\u001B[0m\u001B[1;33m(\u001B[0m\u001B[0minputs\u001B[0m\u001B[1;33m,\u001B[0m \u001B[1;33m*\u001B[0m\u001B[0margs\u001B[0m\u001B[1;33m,\u001B[0m \u001B[1;33m**\u001B[0m\u001B[0mkwargs\u001B[0m\u001B[1;33m)\u001B[0m\u001B[1;33m\u001B[0m\u001B[1;33m\u001B[0m\u001B[0m\n\u001B[0m\u001B[0;32m    881\u001B[0m \u001B[1;33m\u001B[0m\u001B[0m\n\u001B[0;32m    882\u001B[0m         \u001B[0mself\u001B[0m\u001B[1;33m.\u001B[0m\u001B[0m_handle_activity_regularization\u001B[0m\u001B[1;33m(\u001B[0m\u001B[0minputs\u001B[0m\u001B[1;33m,\u001B[0m \u001B[0moutputs\u001B[0m\u001B[1;33m)\u001B[0m\u001B[1;33m\u001B[0m\u001B[1;33m\u001B[0m\u001B[0m\n",
      "\u001B[1;32mE:\\Anaconda\\lib\\site-packages\\tensorflow\\python\\autograph\\impl\\api.py\u001B[0m in \u001B[0;36mwrapper\u001B[1;34m(*args, **kwargs)\u001B[0m\n\u001B[0;32m    693\u001B[0m       \u001B[1;32mexcept\u001B[0m \u001B[0mException\u001B[0m \u001B[1;32mas\u001B[0m \u001B[0me\u001B[0m\u001B[1;33m:\u001B[0m  \u001B[1;31m# pylint:disable=broad-except\u001B[0m\u001B[1;33m\u001B[0m\u001B[1;33m\u001B[0m\u001B[0m\n\u001B[0;32m    694\u001B[0m         \u001B[1;32mif\u001B[0m \u001B[0mhasattr\u001B[0m\u001B[1;33m(\u001B[0m\u001B[0me\u001B[0m\u001B[1;33m,\u001B[0m \u001B[1;34m'ag_error_metadata'\u001B[0m\u001B[1;33m)\u001B[0m\u001B[1;33m:\u001B[0m\u001B[1;33m\u001B[0m\u001B[1;33m\u001B[0m\u001B[0m\n\u001B[1;32m--> 695\u001B[1;33m           \u001B[1;32mraise\u001B[0m \u001B[0me\u001B[0m\u001B[1;33m.\u001B[0m\u001B[0mag_error_metadata\u001B[0m\u001B[1;33m.\u001B[0m\u001B[0mto_exception\u001B[0m\u001B[1;33m(\u001B[0m\u001B[0me\u001B[0m\u001B[1;33m)\u001B[0m\u001B[1;33m\u001B[0m\u001B[1;33m\u001B[0m\u001B[0m\n\u001B[0m\u001B[0;32m    696\u001B[0m         \u001B[1;32melse\u001B[0m\u001B[1;33m:\u001B[0m\u001B[1;33m\u001B[0m\u001B[1;33m\u001B[0m\u001B[0m\n\u001B[0;32m    697\u001B[0m           \u001B[1;32mraise\u001B[0m\u001B[1;33m\u001B[0m\u001B[1;33m\u001B[0m\u001B[0m\n",
      "\u001B[1;31mAttributeError\u001B[0m: in user code:\n\n    <ipython-input-14-600abe72a691>:14 call  *\n        score_mask = inputs[0]._keras_mask\n    E:\\Anaconda\\lib\\site-packages\\tensorflow\\python\\framework\\ops.py:401 __getattr__\n        self.__getattribute__(name)\n\n    AttributeError: 'Tensor' object has no attribute '_keras_mask'\n"
     ]
    }
   ],
   "source": [
    "i_action_input = layers.Input(shape=(None, 4), dtype='float32', name='i_action_input')\n",
    "i_tile_recom_vec = tile_vec_layer([recom_feed_vec, i_feed_vec])\n",
    "i_subs_vec = subs_vec_layer([i_feed_vec, i_feed_vec])\n",
    "i_concat_vec = layers.Concatenate(name='i_concat_layer')([i_action_input,\n",
    "                                                          i_feed_vec,\n",
    "                                                          i_subs_vec,\n",
    "                                                          i_tile_recom_vec])\n",
    "i_attention_score = layers.TimeDistributed(layers.Dense(units=256, name='i_attention_dense_1'), name='i_attention_1')(i_concat_vec)\n",
    "i_attention_score = layers.TimeDistributed(layers.PReLU(name='i_prelu'), name='i_attention_2')(i_attention_score)\n",
    "i_attention_score = layers.TimeDistributed(layers.Dense(units=1, name='i_attention_dense_2'), name='i_attention_3')(i_attention_score)\n",
    "i_attention_vec = attention_vec_layer([i_attention_score, i_feed_vec])"
   ],
   "metadata": {
    "collapsed": false,
    "pycharm": {
     "name": "#%%\n"
    }
   }
  },
  {
   "cell_type": "code",
   "execution_count": null,
   "outputs": [],
   "source": [
    "dis_tile_recom_vec = tile_vec_layer([recom_feed_vec, dis_feed_vec])\n",
    "dis_subs_vec = subs_vec_layer([dis_feed_vec, dis_feed_vec])\n",
    "dis_concat_vec = layers.Concatenate(name='dis_concat_layer')([dis_feed_vec,\n",
    "                                                              dis_subs_vec,\n",
    "                                                              dis_tile_recom_vec])\n",
    "dis_attention_score = layers.TimeDistributed(layers.Dense(units=256, name='dis_attention_dense_1'), name='dis_attention_1')(dis_concat_vec)\n",
    "dis_attention_score = layers.TimeDistributed(layers.PReLU(name='dis_prelu'), name='dis_attention_2')(dis_attention_score)\n",
    "dis_attention_score = layers.TimeDistributed(layers.Dense(units=1, name='dis_attention_dense_2'), name='dis_attention_3')(dis_attention_score)\n",
    "dis_attention_vec = attention_vec_layer([dis_attention_score, dis_feed_vec])"
   ],
   "metadata": {
    "collapsed": false,
    "pycharm": {
     "name": "#%%\n"
    }
   }
  },
  {
   "cell_type": "code",
   "execution_count": null,
   "outputs": [],
   "source": [
    "device_input = layers.Input(shape=(2, ), dtype='float32', name='user_device_input')\n",
    "recom_squeeze_vec = squeeze_vec_layer(recom_feed_vec)\n",
    "final_concat_layer = layers.Concatenate(name='final_concat_layer')\n",
    "final_vec = final_concat_layer([i_attention_vec, dis_attention_vec, recom_squeeze_vec, device_input])\n",
    "action_inference = layers.Dense(units=512, name='final_dense_1')(final_vec)\n",
    "action_inference = layers.PReLU(name='final_prelu_1')(action_inference)\n",
    "action_inference = layers.Dense(units=256, name='final_dense_2')(action_inference)\n",
    "action_inference = layers.PReLU(name='final_prelu_2')(action_inference)\n",
    "action_inference = layers.Dense(units=4, activation=activations.sigmoid, name='output_layer')(action_inference)"
   ],
   "metadata": {
    "collapsed": false,
    "pycharm": {
     "name": "#%%\n"
    }
   }
  },
  {
   "cell_type": "code",
   "execution_count": null,
   "outputs": [],
   "source": [
    "My_Model = models.Model(inputs=[i_author_input, dis_author_input, recom_author_input,\n",
    "                                i_song_input, dis_song_input, recom_song_input,\n",
    "                                i_singer_input, dis_singer_input, recom_singer_input,\n",
    "                                i_psec_input, dis_psec_input, recom_psec_input,\n",
    "                                i_tag_input, dis_tag_input, recom_tag_input,\n",
    "                                ifeed_emb_input, disfeed_emb_input, recomfeed_emb_input,\n",
    "                                i_action_input, device_input],\n",
    "                        outputs=[action_inference],\n",
    "                        name='My_Model')\n",
    "print(My_Model.summary())\n",
    "utils.plot_model(My_Model, show_shapes=True)"
   ],
   "metadata": {
    "collapsed": false,
    "pycharm": {
     "name": "#%%\n"
    }
   }
  },
  {
   "cell_type": "code",
   "execution_count": null,
   "outputs": [],
   "source": [
    "My_Model.compile(optimizer=optimizers.Adam(learning_rate=1e-3),\n",
    "                 loss=losses.BinaryCrossentropy(),\n",
    "                 metrics=[metrics.BinaryAccuracy()])"
   ],
   "metadata": {
    "collapsed": false,
    "pycharm": {
     "name": "#%%\n"
    }
   }
  },
  {
   "cell_type": "code",
   "execution_count": null,
   "outputs": [],
   "source": [
    "layers.Conv2DTranspose"
   ],
   "metadata": {
    "collapsed": false,
    "pycharm": {
     "name": "#%%\n"
    }
   }
  }
 ],
 "metadata": {
  "kernelspec": {
   "display_name": "Python 3",
   "language": "python",
   "name": "python3"
  },
  "language_info": {
   "codemirror_mode": {
    "name": "ipython",
    "version": 2
   },
   "file_extension": ".py",
   "mimetype": "text/x-python",
   "name": "python",
   "nbconvert_exporter": "python",
   "pygments_lexer": "ipython2",
   "version": "2.7.6"
  }
 },
 "nbformat": 4,
 "nbformat_minor": 0
}