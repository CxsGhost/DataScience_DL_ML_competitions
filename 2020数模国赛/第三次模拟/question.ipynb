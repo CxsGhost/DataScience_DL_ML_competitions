{
 "cells": [
  {
   "cell_type": "code",
   "execution_count": 1,
   "metadata": {
    "collapsed": true,
    "pycharm": {
     "name": "#%%\n"
    }
   },
   "outputs": [],
   "source": [
    "import numpy as np\n",
    "import matplotlib.pyplot as plt"
   ]
  },
  {
   "cell_type": "code",
   "execution_count": 2,
   "outputs": [],
   "source": [
    "radar_top = np.array([0, 10000, 0])\n",
    "radar_left = np.array([-5000 * np.square(3), -5000, 0])\n",
    "radar_right = np.array([5000 * np.sqrt(3), 5000, 0])\n",
    "\n",
    "aircraft = np.array([0, 0, 15000])\n",
    "\n",
    "R = 10000 * np.sqrt(13)"
   ],
   "metadata": {
    "collapsed": false,
    "pycharm": {
     "name": "#%%\n"
    }
   }
  },
  {
   "cell_type": "code",
   "execution_count": 3,
   "outputs": [],
   "source": [
    "mat_1 = np.array([aircraft - radar_top,\n",
    "                  aircraft - radar_left,\n",
    "                  aircraft - radar_right])\n",
    "mat_1 /= R\n",
    "try:\n",
    "    mat_1_inv = np.linalg.inv(mat_1)\n",
    "except:\n",
    "    mat_1_inv = np.linalg.pinv(mat_1)\n",
    "\n",
    "mat_sigma = np.zeros(shape=(3, 3))\n",
    "x = range(1, 51)\n",
    "y_1 = []\n",
    "for i in x:\n",
    "    mat_sigma[1, 1] = i\n",
    "    mat_sigma[0, 0] = i\n",
    "    mat_sigma[2, 2] = i\n",
    "    y_1.append(np.dot(np.dot(mat_1, mat_sigma), mat_1_inv).trace())"
   ],
   "metadata": {
    "collapsed": false,
    "pycharm": {
     "name": "#%%\n"
    }
   }
  },
  {
   "cell_type": "code",
   "execution_count": 5,
   "outputs": [
    {
     "name": "stderr",
     "output_type": "stream",
     "text": [
      "No handles with labels found to put in legend.\n"
     ]
    },
    {
     "data": {
      "text/plain": "<Figure size 576x432 with 1 Axes>",
      "image/png": "[encoded data removed]"
     },
     "metadata": {
      "needs_background": "light"
     },
     "output_type": "display_data"
    }
   ],
   "source": [
    "plt.rcParams['font.sans-serif'] = ['SimHei']\n",
    "plt.figure(figsize=(8, 6))\n",
    "plt.plot(x, y_1, marker='*', linestyle='--', color='blue')\n",
    "plt.xlabel('σ的平方')\n",
    "plt.legend()\n",
    "plt.savefig('误差影响.png')\n",
    "plt.show()\n",
    "\n"
   ],
   "metadata": {
    "collapsed": false,
    "pycharm": {
     "name": "#%%\n"
    }
   }
  }
 ],
 "metadata": {
  "kernelspec": {
   "display_name": "Python 3",
   "language": "python",
   "name": "python3"
  },
  "language_info": {
   "codemirror_mode": {
    "name": "ipython",
    "version": 2
   },
   "file_extension": ".py",
   "mimetype": "text/x-python",
   "name": "python",
   "nbconvert_exporter": "python",
   "pygments_lexer": "ipython2",
   "version": "2.7.6"
  }
 },
 "nbformat": 4,
 "nbformat_minor": 0
}