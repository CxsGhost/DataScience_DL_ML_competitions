{
 "cells": [
  {
   "cell_type": "code",
   "execution_count": 1,
   "outputs": [],
   "source": [
    "import numpy as np\n",
    "import pandas as pd\n",
    "from scipy import optimize\n",
    "from tensorflow import keras\n",
    "from tensorflow.compat.v1 import disable_eager_execution\n",
    "disable_eager_execution()\n",
    "\n",
    "# 读取数据\n",
    "jia_data = pd.read_excel('雷达数据.xlsx', sheet_name='第一组飞机甲', header=0)\n",
    "yi_data = pd.read_excel('雷达数据.xlsx', sheet_name='第二组飞机乙', header=0)\n",
    "bing_data = pd.read_excel('雷达数据.xlsx', sheet_name='第三组飞机丙', header=0)\n",
    "\n",
    "jia_data = jia_data.values / 10000\n",
    "yi_data = yi_data.values / 10000\n",
    "bing_data = bing_data.values / 10000\n",
    "\n",
    "\n",
    "jia_y = jia_data[:, -1]\n",
    "yi_y = (yi_data[:, -1] - np.average(yi_data[:, -1])) / 62 + np.average(yi_data[:, -1])\n",
    "bing_y = (bing_data[:, -1] - np.average(bing_data[:, -1])) / 62 + np.average(bing_data[:, -1])\n",
    "\n",
    "jia_x = jia_data[:, :3]\n",
    "yi_x = yi_data[:, :3]\n",
    "bing_x = bing_data[:, :3]"
   ],
   "metadata": {
    "collapsed": false,
    "pycharm": {
     "name": "#%%\n"
    }
   }
  },
  {
   "cell_type": "code",
   "execution_count": 14,
   "outputs": [],
   "source": [
    "\n",
    "# 构建图模型，求解梯度，loss\n",
    "def structure_graph(data_, y_):\n",
    "    location = keras.backend.placeholder(shape=(3, ), dtype='float64',\n",
    "                                         name='location')\n",
    "    loss = keras.backend.variable(value=0.0, dtype='float64',\n",
    "                                  name='square_loss')\n",
    "    for i in range(len(y_)):\n",
    "        loss = loss + keras.backend.square(keras.backend.square(location[0] - data_[i][0]) +\n",
    "                                           keras.backend.square(location[1] - data_[i][1]) +\n",
    "                                           keras.backend.square(location[2]) -\n",
    "                                           np.square(y_[i]))\n",
    "\n",
    "    grads = keras.backend.gradients(loss, location)[0]\n",
    "    iterate_func = keras.backend.function(inputs=[location], outputs=[loss, grads])\n",
    "    return iterate_func\n",
    "\n",
    "\n",
    "func_jia = structure_graph(jia_x, jia_y)\n",
    "func_yi = structure_graph(yi_x, yi_y)\n",
    "func_bing = structure_graph(bing_x, bing_y)"
   ],
   "metadata": {
    "collapsed": false,
    "pycharm": {
     "name": "#%%\n"
    }
   }
  },
  {
   "cell_type": "code",
   "execution_count": 15,
   "outputs": [],
   "source": [
    "class Evaluator:\n",
    "    def __init__(self, func):\n",
    "        self.loss_value = None\n",
    "        self.grads_value = None\n",
    "        self.iterate_func = func\n",
    "\n",
    "    def get_loss(self, x_):\n",
    "        outs = self.iterate_func(inputs=[x_])\n",
    "        loss_value = outs[0]\n",
    "        grads_value = outs[1]\n",
    "        self.loss_value = loss_value\n",
    "        self.grads_value = grads_value\n",
    "\n",
    "        return loss_value\n",
    "\n",
    "    def get_grads(self, x_):\n",
    "        assert self.grads_value is not None\n",
    "        grads_value = np.copy(self.grads_value)\n",
    "        self.grads_value = None\n",
    "        self.loss_value = None\n",
    "\n",
    "        return grads_value\n",
    "\n",
    "\n",
    "evaluator_jia = Evaluator(func_jia)\n",
    "evaluator_yi = Evaluator(func_yi)\n",
    "evaluator_bing = Evaluator(func_bing)\n",
    "\n",
    "\n",
    "def intersection(P1, P2, P3, r1, r2, r3):\n",
    "    temp1 = P2 - P1\n",
    "    e_x = temp1 / np.linalg.norm(temp1)\n",
    "    temp2 = P3 - P1\n",
    "    i = np.dot(e_x, temp2)\n",
    "    temp3 = temp2 - i * e_x\n",
    "    e_y = temp3 / np.linalg.norm(temp3)\n",
    "    e_z = np.cross(e_x, e_y)\n",
    "    d = np.linalg.norm(P2 - P1)\n",
    "    j = np.dot(e_y, temp2)\n",
    "    x = (r1 * r1 - r2 * r2 + d * d) / (2 * d)\n",
    "    y = (r1 * r1 - r3 * r3 - 2 * i * x + i * i + j * j) / (2 * j)\n",
    "    temp4 = r1 * r1 - x * x - y * y\n",
    "    if temp4 < 0:\n",
    "        raise Exception(\"三球体无交点！\")\n",
    "    z = np.sqrt(temp4)\n",
    "    p_12_a = P1 + x * e_x + y * e_y + z * e_z\n",
    "    p_12_b = P1 + x * e_x + y * e_y - z * e_z\n",
    "    if p_12_a[2] > 0:\n",
    "        return p_12_a\n",
    "    else:\n",
    "        return p_12_b"
   ],
   "metadata": {
    "collapsed": false,
    "pycharm": {
     "name": "#%%\n"
    }
   }
  },
  {
   "cell_type": "code",
   "execution_count": 16,
   "outputs": [
    {
     "name": "stdout",
     "output_type": "stream",
     "text": [
      "[1.1490028  0.03869765 1.30783873]\n",
      "[0.67330788 0.28174126 4.64000561]\n",
      "[ 0.8289271   0.53394719 10.4814536 ]\n",
      "\n",
      "甲组数据：\n",
      "共迭代20次，损失基本不再减小，最终结果为：[1.14216467 0.03433891 1.30933114]\n",
      "最终损失（loss）：0.002373984732172337\n",
      "损失函数在该坐标点的梯度为：[-1.26323194e-07  1.84576632e-07  6.66936944e-06]\n",
      "\n",
      "乙组数据：\n",
      "共迭代20次，损失基本不再减小，最终结果为：[0.71509468 0.26664807 4.63907698]\n",
      "最终损失（loss）：0.0017852263122260102\n",
      "损失函数在该坐标点的梯度为：[-8.43057138e-07 -6.07481588e-06 -1.65785452e-06]\n",
      "\n",
      "丙组数据：\n",
      "共迭代20次，损失基本不再减小，最终结果为：[ 0.92645928  0.49223834 10.48108106]\n",
      "最终损失（loss）：0.003289288876495624\n",
      "损失函数在该坐标点的梯度为：[ 6.11138247e-07  1.01983262e-06 -2.76107557e-07]\n"
     ]
    }
   ],
   "source": [
    "x_jia = intersection(jia_x[4], jia_x[15], jia_x[28], jia_y[4], jia_y[15], jia_y[28])\n",
    "x_yi = intersection(yi_x[1], yi_x[2], yi_x[27], yi_y[1], yi_y[2], yi_y[27])\n",
    "x_bing = intersection(bing_x[2], bing_x[7], bing_x[10], bing_y[2], bing_y[7], bing_y[10])\n",
    "print(x_jia)\n",
    "print(x_yi)\n",
    "print(x_bing)\n",
    "\n",
    "def solve(evaluator_, x):\n",
    "\n",
    "    # 设置迭代次数\n",
    "    iteration = 20\n",
    "\n",
    "    min_val = None\n",
    "    for i in range(iteration):\n",
    "         x, min_val, info = optimize.fmin_l_bfgs_b(evaluator_.get_loss,\n",
    "                                                   x,\n",
    "                                                   fprime=evaluator_.get_grads,\n",
    "                                                   )\n",
    "\n",
    "    print('共迭代{}次，损失基本不再减小，最终结果为：{}'.format(iteration, x))\n",
    "    print('最终损失（loss）：{}'.format(min_val))\n",
    "    evaluator_.get_loss(x)\n",
    "    print('损失函数在该坐标点的梯度为：{}'.format(evaluator_.grads_value))\n",
    "\n",
    "\n",
    "# 最终求解\n",
    "print('\\n甲组数据：')\n",
    "solve(evaluator_jia, x_jia)\n",
    "\n",
    "print('\\n乙组数据：')\n",
    "solve(evaluator_yi, x_yi)\n",
    "\n",
    "print('\\n丙组数据：')\n",
    "solve(evaluator_bing, x_bing)\n"
   ],
   "metadata": {
    "collapsed": false,
    "pycharm": {
     "name": "#%%\n"
    }
   }
  }
 ],
 "metadata": {
  "kernelspec": {
   "display_name": "Python 3",
   "language": "python",
   "name": "python3"
  },
  "language_info": {
   "codemirror_mode": {
    "name": "ipython",
    "version": 2
   },
   "file_extension": ".py",
   "mimetype": "text/x-python",
   "name": "python",
   "nbconvert_exporter": "python",
   "pygments_lexer": "ipython2",
   "version": "2.7.6"
  }
 },
 "nbformat": 4,
 "nbformat_minor": 0
}