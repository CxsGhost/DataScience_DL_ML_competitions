{
 "cells": [
  {
   "cell_type": "code",
   "execution_count": 85,
   "metadata": {
    "collapsed": true
   },
   "outputs": [],
   "source": [
    "import numpy as np\n",
    "import pandas as pd\n",
    "from tensorflow import keras\n",
    "from sklearn.preprocessing import MinMaxScaler"
   ]
  },
  {
   "cell_type": "code",
   "execution_count": 83,
   "outputs": [
    {
     "name": "stdout",
     "output_type": "stream",
     "text": [
      "0 0 0 0 0\n"
     ]
    }
   ],
   "source": [
    "train_data = pd.read_csv(\"./titanic/train.csv\", index_col=False, header=0)\n",
    "train_data = train_data.drop(columns=['Name', 'PassengerId', 'Ticket', 'Cabin'])\n",
    "\n",
    "# 填充上船地点，nan用平均ASCII码值\n",
    "embarked_count = train_data['Embarked'].value_counts()\n",
    "emb_fill = sum(map(lambda ch: embarked_count[ch] * ord(ch) / sum(embarked_count),\n",
    "                   embarked_count.index))\n",
    "embarked_dic = {key: ord(key) for key in embarked_count.index}\n",
    "train_data['Embarked'] = train_data['Embarked'].apply(lambda ch: embarked_dic.get(ch, emb_fill))\n",
    "\n",
    "# 确认其他数据无nan\n",
    "print(train_data['Pclass'].isnull().sum(),\n",
    "      train_data['Sex'].isnull().sum(),\n",
    "      train_data['SibSp'].isnull().sum(),\n",
    "      train_data['Parch'].isnull().sum(),\n",
    "      train_data['Fare'].isnull().sum())\n",
    "\n",
    "# 填充年龄\n",
    "female_ave = train_data[train_data['Sex'] == 'female']['Age'].mean()\n",
    "male_ave = train_data[train_data['Sex'] == 'male']['Age'].mean()\n",
    "def fill_sex(sex_, value_):\n",
    "    if pd.isnull(value_):\n",
    "        if sex_ == 'male':\n",
    "            return male_ave\n",
    "        return female_ave\n",
    "    else:\n",
    "        return value_\n",
    "train_data = train_data.values\n",
    "for i in range(len(train_data)):\n",
    "    train_data[i][3] = fill_sex(train_data[i][2], train_data[i][3])\n",
    "train_data[:, 2] = np.array(list(map(lambda ch: 1 if ch == 'male' else -1 , train_data[:, 2])))"
   ],
   "metadata": {
    "collapsed": false,
    "pycharm": {
     "name": "#%%\n"
    }
   }
  },
  {
   "cell_type": "code",
   "execution_count": 84,
   "outputs": [],
   "source": [
    "train_x = train_data[:, 1:]\n",
    "train_label = train_data[:, 0]\n",
    "scaler = MinMaxScaler(feature_range=(0, 1))\n",
    "train_x = scaler.fit_transform(train_x)"
   ],
   "metadata": {
    "collapsed": false,
    "pycharm": {
     "name": "#%%\n"
    }
   }
  },
  {
   "cell_type": "code",
   "execution_count": null,
   "outputs": [],
   "source": [
    "network = keras."
   ],
   "metadata": {
    "collapsed": false,
    "pycharm": {
     "name": "#%%\n"
    }
   }
  }
 ],
 "metadata": {
  "kernelspec": {
   "display_name": "Python 3",
   "language": "python",
   "name": "python3"
  },
  "language_info": {
   "codemirror_mode": {
    "name": "ipython",
    "version": 2
   },
   "file_extension": ".py",
   "mimetype": "text/x-python",
   "name": "python",
   "nbconvert_exporter": "python",
   "pygments_lexer": "ipython2",
   "version": "2.7.6"
  }
 },
 "nbformat": 4,
 "nbformat_minor": 0
}