{
 "cells": [
  {
   "cell_type": "code",
   "execution_count": 1,
   "metadata": {
    "collapsed": true
   },
   "outputs": [
    {
     "name": "stdout",
     "output_type": "stream",
     "text": [
      "4.4.0\n"
     ]
    }
   ],
   "source": [
    "import cv2\n",
    "import numpy as np\n",
    "print(cv2.__version__)"
   ]
  },
  {
   "cell_type": "code",
   "execution_count": 3,
   "outputs": [
    {
     "name": "stdout",
     "output_type": "stream",
     "text": [
      "[[26 33 28 ... 94 96 93]\n",
      " [25 32 29 ... 92 94 91]\n",
      " [26 28 28 ... 94 93 91]\n",
      " ...\n",
      " [43 40 42 ... 90 91 94]\n",
      " [41 36 44 ... 91 91 89]\n",
      " [40 40 43 ... 91 90 85]]\n",
      "[[ 33  42  36 ... 122 124 120]\n",
      " [ 32  41  37 ... 119 122 118]\n",
      " [ 33  36  36 ... 122 120 118]\n",
      " ...\n",
      " [ 55  52  54 ... 117 118 122]\n",
      " [ 53  46  57 ... 118 118 115]\n",
      " [ 52  52  55 ... 118 117 110]]\n"
     ]
    },
    {
     "data": {
      "text/plain": "-1"
     },
     "execution_count": 3,
     "metadata": {},
     "output_type": "execute_result"
    }
   ],
   "source": [
    "img = cv2.imread('lie_wen.png', cv2.IMREAD_GRAYSCALE)\n",
    "print(img)\n",
    "gyh_img = (img - np.min(img)) / (np.max(img) - np.min(img)) * 255\n",
    "gyh_img = gyh_img.astype(np.uint8)\n",
    "print(gyh_img)\n",
    "cv2.imshow('gyh', gyh_img)\n",
    "cv2.waitKey(0)"
   ],
   "metadata": {
    "collapsed": false,
    "pycharm": {
     "name": "#%%\n"
    }
   }
  },
  {
   "cell_type": "code",
   "execution_count": 2,
   "outputs": [
    {
     "name": "stdout",
     "output_type": "stream",
     "text": [
      "[[229 205 196 ... 236 236 236]\n",
      " [231 206 191 ... 236 236 237]\n",
      " [231 204 178 ... 235 236 236]\n",
      " ...\n",
      " [184 192 189 ... 220 220 220]\n",
      " [186 191 188 ... 220 221 219]\n",
      " [184 190 188 ... 220 220 220]]\n"
     ]
    },
    {
     "data": {
      "text/plain": "-1"
     },
     "execution_count": 2,
     "metadata": {},
     "output_type": "execute_result"
    }
   ],
   "source": [
    "img = cv2.imread('exp_x.png', cv2.IMREAD_GRAYSCALE)\n",
    "print(img)\n",
    "img = cv2.equalizeHist(img)\n",
    "cv2.namedWindow('equal',cv2.WINDOW_NORMAL)\n",
    "cv2.imshow('equal', img)\n",
    "cv2.waitKey(0)"
   ],
   "metadata": {
    "collapsed": false,
    "pycharm": {
     "name": "#%%\n"
    }
   }
  },
  {
   "cell_type": "code",
   "execution_count": 2,
   "outputs": [
    {
     "data": {
      "text/plain": "-1"
     },
     "execution_count": 2,
     "metadata": {},
     "output_type": "execute_result"
    }
   ],
   "source": [
    "img = cv2.imread('experimental_image.tiff', cv2.IMREAD_GRAYSCALE)\n",
    "clahe = cv2.createCLAHE(clipLimit=4, tileGridSize=(5, 5))\n",
    "img = clahe.apply(img)\n",
    "cv2.namedWindow('clahe', cv2.WINDOW_NORMAL)\n",
    "cv2.imshow('clahe', img)\n",
    "cv2.waitKey(0)\n",
    "img = cv2.fastNlMeansDenoising(img, h=4, templateWindowSize=7, searchWindowSize=21)\n",
    "cv2.imwrite('experi_1_ycl.png', img)\n",
    "cv2.namedWindow('experi_1',cv2.WINDOW_NORMAL)\n",
    "cv2.imshow('experi_1', img)\n",
    "cv2.waitKey(0)\n"
   ],
   "metadata": {
    "collapsed": false,
    "pycharm": {
     "name": "#%%\n"
    }
   }
  },
  {
   "cell_type": "code",
   "execution_count": 10,
   "outputs": [
    {
     "data": {
      "text/plain": "-1"
     },
     "execution_count": 10,
     "metadata": {},
     "output_type": "execute_result"
    }
   ],
   "source": [
    "img = cv2.imread('experi_2.tiff', cv2.IMREAD_GRAYSCALE)\n",
    "clahe = cv2.createCLAHE(clipLimit=5.5, tileGridSize=(5, 5))\n",
    "img = clahe.apply(img)\n",
    "cv2.namedWindow('clahe_1', cv2.WINDOW_NORMAL)\n",
    "cv2.imshow('clahe_1', img)\n",
    "cv2.waitKey(0)\n",
    "img = cv2.fastNlMeansDenoising(img, h=4, searchWindowSize=21, templateWindowSize=7)\n",
    "cv2.imwrite('experi_2_ycl.png', img)\n",
    "cv2.namedWindow('experi_2', cv2.WINDOW_NORMAL)\n",
    "cv2.imshow('experi_2', img)\n",
    "cv2.waitKey(0)\n"
   ],
   "metadata": {
    "collapsed": false,
    "pycharm": {
     "name": "#%%\n"
    }
   }
  },
  {
   "cell_type": "code",
   "execution_count": 7,
   "outputs": [
    {
     "data": {
      "text/plain": "-1"
     },
     "execution_count": 7,
     "metadata": {},
     "output_type": "execute_result"
    }
   ],
   "source": [
    "img = cv2.GaussianBlur(img, (3, 3), 0)\n",
    "canny_img = cv2.Canny(img, 100, 110)\n",
    "cv2.imshow('canny', canny_img)\n",
    "cv2.waitKey(0)"
   ],
   "metadata": {
    "collapsed": false,
    "pycharm": {
     "name": "#%%\n"
    }
   }
  },
  {
   "cell_type": "code",
   "execution_count": 4,
   "outputs": [
    {
     "data": {
      "text/plain": "-1"
     },
     "execution_count": 4,
     "metadata": {},
     "output_type": "execute_result"
    }
   ],
   "source": [
    "import cv2\n",
    "import numpy as np\n",
    "\n",
    "img = cv2.imread('liewen_3_f.png', cv2.IMREAD_GRAYSCALE)\n",
    "\n",
    "clahe = cv2.createCLAHE(clipLimit=4, tileGridSize=(5, 5))\n",
    "img = clahe.apply(img)\n",
    "# data = cv2.calcHist([img], [0], None, [256], [0, 255])\n",
    "# print(data)\n",
    "cv2.namedWindow('liewen', cv2.WINDOW_NORMAL)\n",
    "cv2.imshow('liewen', img)\n",
    "cv2.waitKey(0)\n",
    "img = cv2.fastNlMeansDenoising(img, h=10, searchWindowSize=23, templateWindowSize=9)\n",
    "cv2.namedWindow('liewen', cv2.WINDOW_NORMAL)\n",
    "cv2.imshow('liewen', img)\n",
    "cv2.waitKey(0)\n",
    "img = cv2.GaussianBlur(img, (3, 3), 0)\n",
    "cv2.namedWindow('liewen', cv2.WINDOW_NORMAL)\n",
    "cv2.imshow('liewen', img)\n",
    "cv2.waitKey(0)\n",
    "\n",
    "canny_img = cv2.Canny(img, 60, 120)\n",
    "cv2.namedWindow('liewen', cv2.WINDOW_NORMAL)\n",
    "cv2.imwrite('canny_jieguo.png', canny_img)\n",
    "cv2.imshow('liewen', canny_img)\n",
    "cv2.waitKey(0)"
   ],
   "metadata": {
    "collapsed": false,
    "pycharm": {
     "name": "#%%\n"
    }
   }
  },
  {
   "cell_type": "code",
   "execution_count": null,
   "outputs": [],
   "source": [],
   "metadata": {
    "collapsed": false,
    "pycharm": {
     "name": "#%%\n"
    }
   }
  }
 ],
 "metadata": {
  "kernelspec": {
   "display_name": "Python 3",
   "language": "python",
   "name": "python3"
  },
  "language_info": {
   "codemirror_mode": {
    "name": "ipython",
    "version": 2
   },
   "file_extension": ".py",
   "mimetype": "text/x-python",
   "name": "python",
   "nbconvert_exporter": "python",
   "pygments_lexer": "ipython2",
   "version": "2.7.6"
  }
 },
 "nbformat": 4,
 "nbformat_minor": 0
}