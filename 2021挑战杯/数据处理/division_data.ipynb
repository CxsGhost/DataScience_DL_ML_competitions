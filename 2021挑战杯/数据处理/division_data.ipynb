{
 "cells": [
  {
   "cell_type": "code",
   "execution_count": 2,
   "metadata": {
    "collapsed": true
   },
   "outputs": [
    {
     "name": "stdout",
     "output_type": "stream",
     "text": [
      "['classes.txt', 'W0003_0001.jpg', 'W0003_0001.png', 'W0003_0001.txt', 'W0003_0001.xml', 'W0003_0002.jpg', 'W0003_0002.png', 'W0003_0002.txt', 'W0003_0002.xml', 'W0003_0003.jpg', 'W0003_0003.png', 'W0003_0003.txt', 'W0003_0003.xml', 'W0003_0004.jpg', 'W0003_0004.png', 'W0003_0004.txt', 'W0003_0004.xml', 'W0003_0005.jpg', 'W0003_0005.png', 'W0003_0005.txt', 'W0003_0005.xml', 'W0003_0008.jpg', 'W0003_0008.png', 'W0003_0008.txt', 'W0003_0008.xml', 'W0003_0009.jpg', 'W0003_0009.png', 'W0003_0009.txt', 'W0003_0009.xml', 'W0003_0010.jpg', 'W0003_0010.png', 'W0003_0010.txt', 'W0003_0010.xml', 'W0003_0013.jpg', 'W0003_0013.png', 'W0003_0013.txt', 'W0003_0013.xml', 'W0003_0014.jpg', 'W0003_0014.png', 'W0003_0014.txt', 'W0003_0014.xml', 'W0003_0015.jpg', 'W0003_0015.png', 'W0003_0015.txt', 'W0003_0015.xml', 'W0003_0016.jpg', 'W0003_0016.png', 'W0003_0016.txt', 'W0003_0016.xml', 'W0003_0017.jpg', 'W0003_0017.png', 'W0003_0017.txt', 'W0003_0017.xml', 'W0003_0018.jpg', 'W0003_0018.png', 'W0003_0018.txt', 'W0003_0018.xml', 'W0003_0019.jpg', 'W0003_0019.png', 'W0003_0019.txt', 'W0003_0019.xml', 'W0003_0020.jpg', 'W0003_0020.png', 'W0003_0020.txt', 'W0003_0020.xml', 'W0003_0021.jpg', 'W0003_0021.png', 'W0003_0021.txt', 'W0003_0021.xml', 'W0003_0022.jpg', 'W0003_0022.png', 'W0003_0022.txt', 'W0003_0022.xml', 'W0003_0023.jpg', 'W0003_0023.png', 'W0003_0023.txt', 'W0003_0023.xml', 'W0003_0024.jpg', 'W0003_0024.png', 'W0003_0024.txt', 'W0003_0024.xml', 'W0003_0025.jpg', 'W0003_0025.png', 'W0003_0025.txt', 'W0003_0025.xml', 'W0003_0026.jpg', 'W0003_0026.png', 'W0003_0026.txt', 'W0003_0026.xml', 'W0003_0027.jpg', 'W0003_0027.png', 'W0003_0027.txt', 'W0003_0027.xml', 'W0003_0028.jpg', 'W0003_0028.png', 'W0003_0028.txt', 'W0003_0028.xml', 'W0003_0029.jpg', 'W0003_0029.png', 'W0003_0029.txt', 'W0003_0029.xml', 'W0003_0031.jpg', 'W0003_0031.png', 'W0003_0031.txt', 'W0003_0031.xml', 'W0003_0032.jpg', 'W0003_0032.png', 'W0003_0032.txt', 'W0003_0032.xml', 'W0003_0033.jpg', 'W0003_0033.png', 'W0003_0033.txt', 'W0003_0033.xml', 'W0003_0034.jpg', 'W0003_0034.png', 'W0003_0034.txt', 'W0003_0034.xml', 'W0003_0035.jpg', 'W0003_0035.png', 'W0003_0035.txt', 'W0003_0035.xml', 'W0003_0037.jpg', 'W0003_0037.png', 'W0003_0037.txt', 'W0003_0037.xml', 'W0003_0038.jpg', 'W0003_0038.png', 'W0003_0038.txt', 'W0003_0038.xml', 'W0003_0040.jpg', 'W0003_0040.png', 'W0003_0040.txt', 'W0003_0040.xml', 'W0003_0043.jpg', 'W0003_0043.png', 'W0003_0043.txt', 'W0003_0043.xml', 'W0003_0044.jpg', 'W0003_0044.png', 'W0003_0044.txt', 'W0003_0044.xml', 'W0003_0045.jpg', 'W0003_0045.png', 'W0003_0045.txt', 'W0003_0045.xml', 'W0003_0046.jpg', 'W0003_0046.png', 'W0003_0046.txt', 'W0003_0046.xml', 'W0003_0047.jpg', 'W0003_0047.png', 'W0003_0047.txt', 'W0003_0047.xml', 'W0003_0048.jpg', 'W0003_0048.png', 'W0003_0048.txt', 'W0003_0048.xml', 'W0003_0049.jpg', 'W0003_0049.png', 'W0003_0049.txt', 'W0003_0049.xml', 'W0003_0050.jpg', 'W0003_0050.png', 'W0003_0050.txt', 'W0003_0050.xml', 'W0003_0051.jpg', 'W0003_0051.png', 'W0003_0051.txt', 'W0003_0051.xml', 'W0003_0052.jpg', 'W0003_0052.png', 'W0003_0052.txt', 'W0003_0052.xml', 'W0003_0053.jpg', 'W0003_0053.png', 'W0003_0053.txt', 'W0003_0053.xml', 'W0003_0054.jpg', 'W0003_0054.png', 'W0003_0054.txt', 'W0003_0054.xml', 'W0003_0055.jpg', 'W0003_0055.png', 'W0003_0055.txt', 'W0003_0055.xml', 'W0003_0056.jpg', 'W0003_0056.png', 'W0003_0056.txt', 'W0003_0056.xml', 'W0003_0057.jpg', 'W0003_0057.png', 'W0003_0057.txt', 'W0003_0057.xml', 'W0003_0058.jpg', 'W0003_0058.png', 'W0003_0058.txt', 'W0003_0058.xml', 'W0003_0059.jpg', 'W0003_0059.png', 'W0003_0059.txt', 'W0003_0059.xml', 'W0003_0060.jpg', 'W0003_0060.png', 'W0003_0060.txt', 'W0003_0060.xml', 'W0003_0061.jpg', 'W0003_0061.png', 'W0003_0061.txt', 'W0003_0061.xml', 'W0003_0062.jpg', 'W0003_0062.png', 'W0003_0062.txt', 'W0003_0062.xml', 'W0003_0063.jpg', 'W0003_0063.png', 'W0003_0063.txt', 'W0003_0063.xml', 'W0003_0064.jpg', 'W0003_0064.png', 'W0003_0064.txt', 'W0003_0064.xml', 'W0003_0065.jpg', 'W0003_0065.png', 'W0003_0065.txt', 'W0003_0065.xml', 'W0003_0066.jpg', 'W0003_0066.png', 'W0003_0066.txt', 'W0003_0066.xml', 'W0003_0067.jpg', 'W0003_0067.png', 'W0003_0067.txt', 'W0003_0067.xml']\n"
     ]
    }
   ],
   "source": [
    "import os\n",
    "\n",
    "print(os.listdir(\"E:/py/科学计算与机器学习/2021挑战杯/数据/W0003\"))"
   ]
  },
  {
   "cell_type": "code",
   "execution_count": 17,
   "outputs": [
    {
     "name": "stdout",
     "output_type": "stream",
     "text": [
      "txt\n"
     ]
    }
   ],
   "source": [
    "# 先w0003数据\n",
    "base_path = \"E:/py/科学计算与机器学习/2021挑战杯/数据\"\n",
    "src_base = \"E:/py/科学计算与机器学习/2021挑战杯/数据/W0003\"\n",
    "file_names = os.listdir(\"E:/py/科学计算与机器学习/2021挑战杯/数据/W0003\")\n",
    "w0003_path = os.path.join(base_path, \"w0003_deal\").replace(\"\\\\\", '/')\n",
    "w0003_original = os.path.join(w0003_path, \"original\").replace(\"\\\\\", '/')\n",
    "w0003_mark = os.path.join(w0003_path, \"mark\").replace(\"\\\\\", '/')\n",
    "w0003_label_data = os.path.join(w0003_path, \"label_data\").replace(\"\\\\\", '/')\n",
    "w0003_xml = os.path.join(w0003_path, \"xml\").replace(\"\\\\\", '/')\n",
    "\n",
    "os.mkdir(w0003_path)\n",
    "os.mkdir(w0003_original)\n",
    "os.mkdir(w0003_mark)\n",
    "os.mkdir(w0003_label_data)\n",
    "os.mkdir(w0003_xml)\n",
    "\n",
    "print(file_names[0][-3:])"
   ],
   "metadata": {
    "collapsed": false,
    "pycharm": {
     "name": "#%%\n"
    }
   }
  },
  {
   "cell_type": "code",
   "execution_count": 18,
   "outputs": [
    {
     "name": "stdout",
     "output_type": "stream",
     "text": [
      "\n"
     ]
    }
   ],
   "source": [
    "import shutil\n",
    "print()\n",
    "for file in file_names:\n",
    "    if file[-3:] == \"txt\":\n",
    "        src = os.path.join(src_base, file)\n",
    "        dst = os.path.join(w0003_label_data, file)\n",
    "        shutil.copy(src=src, dst=dst)\n",
    "    elif file[-3:] == \"xml\":\n",
    "        src = os.path.join(src_base, file)\n",
    "        dst = os.path.join(w0003_xml, file)\n",
    "        shutil.copy(src=src, dst=dst)\n",
    "    elif file[-3:] == \"jpg\":\n",
    "        src = os.path.join(src_base, file)\n",
    "        dst = os.path.join(w0003_mark, file)\n",
    "        shutil.copy(src, dst)\n",
    "    else:\n",
    "        src = os.path.join(src_base, file)\n",
    "        dst = os.path.join(w0003_original, file)\n",
    "        shutil.copy(src, dst)"
   ],
   "metadata": {
    "collapsed": false,
    "pycharm": {
     "name": "#%%\n"
    }
   }
  },
  {
   "cell_type": "code",
   "execution_count": 6,
   "outputs": [
    {
     "ename": "FileExistsError",
     "evalue": "[WinError 183] 当文件已存在时，无法创建该文件。: 'E:/py/科学计算与机器学习/2021挑战杯/数据\\\\hua_nan_deal'",
     "output_type": "error",
     "traceback": [
      "\u001B[1;31m---------------------------------------------------------------------------\u001B[0m",
      "\u001B[1;31mFileExistsError\u001B[0m                           Traceback (most recent call last)",
      "\u001B[1;32m<ipython-input-6-5527901f2c14>\u001B[0m in \u001B[0;36m<module>\u001B[1;34m\u001B[0m\n\u001B[0;32m      2\u001B[0m \u001B[0msrc_base\u001B[0m \u001B[1;33m=\u001B[0m \u001B[1;34m\"E:/py/科学计算与机器学习/2021挑战杯/数据/hua_nan\"\u001B[0m\u001B[1;33m\u001B[0m\u001B[1;33m\u001B[0m\u001B[0m\n\u001B[0;32m      3\u001B[0m \u001B[0mhn_path\u001B[0m \u001B[1;33m=\u001B[0m \u001B[0mos\u001B[0m\u001B[1;33m.\u001B[0m\u001B[0mpath\u001B[0m\u001B[1;33m.\u001B[0m\u001B[0mjoin\u001B[0m\u001B[1;33m(\u001B[0m\u001B[0mbase_path\u001B[0m\u001B[1;33m,\u001B[0m \u001B[1;34m\"hua_nan_deal\"\u001B[0m\u001B[1;33m)\u001B[0m\u001B[1;33m\u001B[0m\u001B[1;33m\u001B[0m\u001B[0m\n\u001B[1;32m----> 4\u001B[1;33m \u001B[0mos\u001B[0m\u001B[1;33m.\u001B[0m\u001B[0mmkdir\u001B[0m\u001B[1;33m(\u001B[0m\u001B[0mhn_path\u001B[0m\u001B[1;33m)\u001B[0m\u001B[1;33m\u001B[0m\u001B[1;33m\u001B[0m\u001B[0m\n\u001B[0m\u001B[0;32m      5\u001B[0m \u001B[0mfile_names\u001B[0m \u001B[1;33m=\u001B[0m \u001B[0mos\u001B[0m\u001B[1;33m.\u001B[0m\u001B[0mlistdir\u001B[0m\u001B[1;33m(\u001B[0m\u001B[0mos\u001B[0m\u001B[1;33m.\u001B[0m\u001B[0mpath\u001B[0m\u001B[1;33m.\u001B[0m\u001B[0mjoin\u001B[0m\u001B[1;33m(\u001B[0m\u001B[0mbase_path\u001B[0m\u001B[1;33m,\u001B[0m \u001B[1;34m\"hua_nan\"\u001B[0m\u001B[1;33m)\u001B[0m\u001B[1;33m)\u001B[0m\u001B[1;33m\u001B[0m\u001B[1;33m\u001B[0m\u001B[0m\n\u001B[0;32m      6\u001B[0m \u001B[0mhn_jpg_path\u001B[0m \u001B[1;33m=\u001B[0m \u001B[0mos\u001B[0m\u001B[1;33m.\u001B[0m\u001B[0mpath\u001B[0m\u001B[1;33m.\u001B[0m\u001B[0mjoin\u001B[0m\u001B[1;33m(\u001B[0m\u001B[0mhn_path\u001B[0m\u001B[1;33m,\u001B[0m \u001B[1;34m\"标注数据\"\u001B[0m\u001B[1;33m)\u001B[0m\u001B[1;33m\u001B[0m\u001B[1;33m\u001B[0m\u001B[0m\n",
      "\u001B[1;31mFileExistsError\u001B[0m: [WinError 183] 当文件已存在时，无法创建该文件。: 'E:/py/科学计算与机器学习/2021挑战杯/数据\\\\hua_nan_deal'"
     ]
    }
   ],
   "source": [
    "base_path = \"E:/py/科学计算与机器学习/2021挑战杯/数据\"\n",
    "src_base = \"E:/py/科学计算与机器学习/2021挑战杯/数据/hua_nan\"\n",
    "hn_path = os.path.join(base_path, \"hua_nan_deal\")\n",
    "os.mkdir(hn_path)\n",
    "file_names = os.listdir(os.path.join(base_path, \"hua_nan\"))\n",
    "hn_jpg_path = os.path.join(hn_path, \"标注数据\")\n",
    "hn_tiff_path = os.path.join(hn_path, \"yuan_shi\")\n",
    "hn_txt = os.path.join(hn_path, \"txt\")\n",
    "hn_xml = os.path.join(hn_path, \"xml\")\n",
    "os.mkdir(hn_jpg_path)\n",
    "os.mkdir(hn_tiff_path)\n",
    "os.mkdir(hn_txt)\n",
    "os.mkdir(hn_xml)"
   ],
   "metadata": {
    "collapsed": false,
    "pycharm": {
     "name": "#%%\n"
    }
   }
  },
  {
   "cell_type": "code",
   "execution_count": 8,
   "outputs": [
    {
     "name": "stdout",
     "output_type": "stream",
     "text": [
      "\n"
     ]
    }
   ],
   "source": [
    "import shutil\n",
    "print()\n",
    "hn_path = src_base\n",
    "for file in file_names:\n",
    "    if file[-3:] == \"txt\":\n",
    "        src = os.path.join(hn_path, file)\n",
    "        dst = os.path.join(hn_txt, file)\n",
    "        shutil.copy(src=src, dst=dst)\n",
    "    elif file[-3:] == \"xml\":\n",
    "        src = os.path.join(hn_path, file)\n",
    "        dst = os.path.join(hn_xml, file)\n",
    "        shutil.copy(src=src, dst=dst)\n",
    "    elif file[-3:] == \"jpg\":\n",
    "        src = os.path.join(hn_path, file)\n",
    "        dst = os.path.join(hn_jpg_path, file)\n",
    "        shutil.copy(src, dst)\n",
    "    else:\n",
    "        src = os.path.join(hn_path, file)\n",
    "        dst = os.path.join(hn_tiff_path, file)\n",
    "        shutil.copy(src, dst)"
   ],
   "metadata": {
    "collapsed": false,
    "pycharm": {
     "name": "#%%\n"
    }
   }
  },
  {
   "cell_type": "code",
   "execution_count": 14,
   "outputs": [
    {
     "name": "stdout",
     "output_type": "stream",
     "text": [
      "['气孔', '夹渣', '焊瘤', '裂纹', '咬边', '未熔合', '未焊透', '烧穿', '焊缝', '成形不良', '内凹', '异物', '伪缺陷']\n"
     ]
    }
   ],
   "source": [
    "base_path = \"E:/py/科学计算与机器学习/2021挑战杯/数据\"\n",
    "data_list = ['hua_nan_deal', 'w0003_deal']\n",
    "classes = os.path.join(base_path, data_list[0])\n",
    "classes = os.path.join(classes, 'txt/classes.txt')\n",
    "classes = open(classes, \"r+\", encoding='utf-8').readlines()\n",
    "classes = list(classes)\n",
    "for c in range(len(classes)):\n",
    "    classes[c] = classes[c].strip()\n",
    "print(classes)"
   ],
   "metadata": {
    "collapsed": false,
    "pycharm": {
     "name": "#%%\n"
    }
   }
  },
  {
   "cell_type": "code",
   "execution_count": 23,
   "outputs": [
    {
     "name": "stdout",
     "output_type": "stream",
     "text": [
      "[357, 161, 0, 62, 21, 6, 9, 0, 187, 19, 0, 0, 0]\n"
     ]
    }
   ],
   "source": [
    "data_static = [0 for _ in range(13)]\n",
    "for f in data_list:\n",
    "    for d in os.listdir(os.path.join(base_path, f+'/txt')):\n",
    "        if d == 'classes.txt':\n",
    "            continue\n",
    "        file = open(os.path.join(base_path, f+'/txt/'+d), 'r+', encoding='utf-8')\n",
    "        data = file.readlines()\n",
    "        for dd in range(len(data)):\n",
    "            data_static[int(data[dd][0])] += 1\n",
    "print(data_static)"
   ],
   "metadata": {
    "collapsed": false,
    "pycharm": {
     "name": "#%%\n"
    }
   }
  },
  {
   "cell_type": "code",
   "execution_count": 26,
   "outputs": [
    {
     "data": {
      "text/plain": "<Figure size 432x288 with 1 Axes>",
      "image/png": "[encoded data removed]"
     },
     "metadata": {
      "needs_background": "light"
     },
     "output_type": "display_data"
    }
   ],
   "source": [
    "from matplotlib import pyplot as plt\n",
    "\n",
    "plt.rcParams['font.sans-serif'] = ['SimHei']\n",
    "x = classes\n",
    "y = data_static\n",
    "\n",
    "plt.bar(x, y)\n",
    "plt.title('数据统计')\n",
    "plt.xlabel('缺陷')\n",
    "plt.ylabel('数量')\n",
    "plt.xticks(rotation=45)\n",
    "plt.savefig('数据统计.png')\n",
    "plt.show()\n",
    "\n"
   ],
   "metadata": {
    "collapsed": false,
    "pycharm": {
     "name": "#%%\n"
    }
   }
  }
 ],
 "metadata": {
  "kernelspec": {
   "display_name": "Python 3",
   "language": "python",
   "name": "python3"
  },
  "language_info": {
   "codemirror_mode": {
    "name": "ipython",
    "version": 2
   },
   "file_extension": ".py",
   "mimetype": "text/x-python",
   "name": "python",
   "nbconvert_exporter": "python",
   "pygments_lexer": "ipython2",
   "version": "2.7.6"
  }
 },
 "nbformat": 4,
 "nbformat_minor": 0
}