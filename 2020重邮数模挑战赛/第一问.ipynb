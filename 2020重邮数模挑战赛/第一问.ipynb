{
 "cells": [
  {
   "cell_type": "code",
   "execution_count": 6,
   "outputs": [],
   "source": [
    "import numpy as np\n",
    "\n",
    "delivery_pos = np.array([[0, 0], [3, 2], [1, 5], [5, 4], [4, 7], [0, 8], [3, 11],\n",
    "                         [7, 9], [9, 6], [10, 2], [14, 0], [17, 3], [14, 6],\n",
    "                         [12, 9], [10, 12], [7, 14], [2, 16], [6, 18], [11, 17],\n",
    "                         [15, 12], [19, 9], [22, 5], [21, 0], [27, 9], [15, 19],\n",
    "                         [15, 14], [20, 17], [21, 13], [24, 20], [25, 16], [28, 18]])\n",
    "pos_weight = np.array([8, 8.2, 6, 5.5, 3, 4.5, 7.2, 2.3, 1.4, 6.5, 4.1, 12.7, 5.8, 3.8, 4.6,\n",
    "                       3.5, 5.8, 7.5, 7.8, 3.4, 6.2, 6.8, 2.4, 7.6, 9.6, 10, 12, 6, 8.1, 4.2])"
   ],
   "metadata": {
    "collapsed": false,
    "pycharm": {
     "name": "#%%\n"
    }
   }
  },
  {
   "cell_type": "code",
   "execution_count": 7,
   "outputs": [],
   "source": [
    "def longway(path_):\n",
    "    path_ = path_.insert(0, 0)\n",
    "    print(path_)\n",
    "    path_ = path_.append(0)\n",
    "    long = 0\n",
    "    for i in range(len(path_) - 1):\n",
    "        long += delivery_pos[path_[i]][path_[i+ 1]]\n",
    "    print(\"路程：\", long, \"时间：\" , long / 25 + (len(path_) - 2) * 8 / 60)"
   ],
   "metadata": {
    "collapsed": false,
    "pycharm": {
     "name": "#%%\n"
    }
   }
  },
  {
   "cell_type": "code",
   "execution_count": 8,
   "outputs": [
    {
     "name": "stdout",
     "output_type": "stream",
     "text": [
      "None\n"
     ]
    },
    {
     "name": "stderr",
     "output_type": "stream",
     "text": [
      "E:\\Anaconda\\lib\\site-packages\\ipykernel_launcher.py:10: VisibleDeprecationWarning: Creating an ndarray from ragged nested sequences (which is a list-or-tuple of lists-or-tuples-or ndarrays with different lengths or shapes) is deprecated. If you meant to do this, you must specify 'dtype=object' when creating the ndarray\n",
      "  # Remove the CWD from sys.path while we load stuff.\n"
     ]
    },
    {
     "ename": "AttributeError",
     "evalue": "'NoneType' object has no attribute 'append'",
     "output_type": "error",
     "traceback": [
      "\u001B[1;31m---------------------------------------------------------------------------\u001B[0m",
      "\u001B[1;31mAttributeError\u001B[0m                            Traceback (most recent call last)",
      "\u001B[1;32m<ipython-input-8-a32c154ec858>\u001B[0m in \u001B[0;36m<module>\u001B[1;34m\u001B[0m\n\u001B[0;32m     10\u001B[0m                 [28, 19]])\n\u001B[0;32m     11\u001B[0m \u001B[1;32mfor\u001B[0m \u001B[0mp\u001B[0m \u001B[1;32min\u001B[0m \u001B[0mpath\u001B[0m\u001B[1;33m:\u001B[0m\u001B[1;33m\u001B[0m\u001B[1;33m\u001B[0m\u001B[0m\n\u001B[1;32m---> 12\u001B[1;33m     \u001B[0mlongway\u001B[0m\u001B[1;33m(\u001B[0m\u001B[0mp\u001B[0m\u001B[1;33m)\u001B[0m\u001B[1;33m\u001B[0m\u001B[1;33m\u001B[0m\u001B[0m\n\u001B[0m",
      "\u001B[1;32m<ipython-input-7-8fe4abe10db9>\u001B[0m in \u001B[0;36mlongway\u001B[1;34m(path_)\u001B[0m\n\u001B[0;32m      2\u001B[0m     \u001B[0mpath_\u001B[0m \u001B[1;33m=\u001B[0m \u001B[0mpath_\u001B[0m\u001B[1;33m.\u001B[0m\u001B[0minsert\u001B[0m\u001B[1;33m(\u001B[0m\u001B[1;36m0\u001B[0m\u001B[1;33m,\u001B[0m \u001B[1;36m0\u001B[0m\u001B[1;33m)\u001B[0m\u001B[1;33m\u001B[0m\u001B[1;33m\u001B[0m\u001B[0m\n\u001B[0;32m      3\u001B[0m     \u001B[0mprint\u001B[0m\u001B[1;33m(\u001B[0m\u001B[0mpath_\u001B[0m\u001B[1;33m)\u001B[0m\u001B[1;33m\u001B[0m\u001B[1;33m\u001B[0m\u001B[0m\n\u001B[1;32m----> 4\u001B[1;33m     \u001B[0mpath_\u001B[0m \u001B[1;33m=\u001B[0m \u001B[0mpath_\u001B[0m\u001B[1;33m.\u001B[0m\u001B[0mappend\u001B[0m\u001B[1;33m(\u001B[0m\u001B[1;36m0\u001B[0m\u001B[1;33m)\u001B[0m\u001B[1;33m\u001B[0m\u001B[1;33m\u001B[0m\u001B[0m\n\u001B[0m\u001B[0;32m      5\u001B[0m     \u001B[0mlong\u001B[0m \u001B[1;33m=\u001B[0m \u001B[1;36m0\u001B[0m\u001B[1;33m\u001B[0m\u001B[1;33m\u001B[0m\u001B[0m\n\u001B[0;32m      6\u001B[0m     \u001B[1;32mfor\u001B[0m \u001B[0mi\u001B[0m \u001B[1;32min\u001B[0m \u001B[0mrange\u001B[0m\u001B[1;33m(\u001B[0m\u001B[0mlen\u001B[0m\u001B[1;33m(\u001B[0m\u001B[0mpath_\u001B[0m\u001B[1;33m)\u001B[0m \u001B[1;33m-\u001B[0m \u001B[1;36m1\u001B[0m\u001B[1;33m)\u001B[0m\u001B[1;33m:\u001B[0m\u001B[1;33m\u001B[0m\u001B[1;33m\u001B[0m\u001B[0m\n",
      "\u001B[1;31mAttributeError\u001B[0m: 'NoneType' object has no attribute 'append'"
     ]
    }
   ],
   "source": [
    "path = np.array([[21, 20, 24],\n",
    "                 [27, 29, 6],\n",
    "                 [23,7, 22, 18],\n",
    "                 [3, 16, 5],\n",
    "                 [17, 15],\n",
    "                 [14, 13, 30, 9, 8],\n",
    "                 [11, 4, 2],\n",
    "                 [25, 1, 10],\n",
    "                [26, 12],\n",
    "                [28, 19]])\n",
    "for p in path:\n",
    "    longway(p)"
   ],
   "metadata": {
    "collapsed": false,
    "pycharm": {
     "name": "#%%\n"
    }
   }
  }
 ],
 "metadata": {
  "kernelspec": {
   "display_name": "Python 3",
   "language": "python",
   "name": "python3"
  },
  "language_info": {
   "codemirror_mode": {
    "name": "ipython",
    "version": 2
   },
   "file_extension": ".py",
   "mimetype": "text/x-python",
   "name": "python",
   "nbconvert_exporter": "python",
   "pygments_lexer": "ipython2",
   "version": "2.7.6"
  }
 },
 "nbformat": 4,
 "nbformat_minor": 0
}